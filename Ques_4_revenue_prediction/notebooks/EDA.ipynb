{
 "cells": [
  {
   "cell_type": "code",
   "execution_count": 54,
   "metadata": {},
   "outputs": [],
   "source": [
    "# import useful libraries\n",
    "import pandas as pd\n",
    "from sklearn.model_selection import train_test_split\n",
    "from sklearn.ensemble import RandomForestClassifier,RandomForestRegressor\n",
    "from sklearn.preprocessing import LabelEncoder\n",
    "from sklearn.ensemble import AdaBoostClassifier,AdaBoostRegressor\n",
    "from sklearn.metrics import accuracy_score, confusion_matrix\n",
    "from sklearn.model_selection import RandomizedSearchCV"
   ]
  },
  {
   "cell_type": "code",
   "execution_count": 55,
   "metadata": {},
   "outputs": [
    {
     "data": {
      "text/html": [
       "<div>\n",
       "<style scoped>\n",
       "    .dataframe tbody tr th:only-of-type {\n",
       "        vertical-align: middle;\n",
       "    }\n",
       "\n",
       "    .dataframe tbody tr th {\n",
       "        vertical-align: top;\n",
       "    }\n",
       "\n",
       "    .dataframe thead th {\n",
       "        text-align: right;\n",
       "    }\n",
       "</style>\n",
       "<table border=\"1\" class=\"dataframe\">\n",
       "  <thead>\n",
       "    <tr style=\"text-align: right;\">\n",
       "      <th></th>\n",
       "      <th>Administrative</th>\n",
       "      <th>Administrative_Duration</th>\n",
       "      <th>Informational</th>\n",
       "      <th>Informational_Duration</th>\n",
       "      <th>ProductRelated</th>\n",
       "      <th>ProductRelated_Duration</th>\n",
       "      <th>BounceRates</th>\n",
       "      <th>ExitRates</th>\n",
       "      <th>PageValues</th>\n",
       "      <th>SpecialDay</th>\n",
       "      <th>Month</th>\n",
       "      <th>OperatingSystems</th>\n",
       "      <th>Browser</th>\n",
       "      <th>Region</th>\n",
       "      <th>TrafficType</th>\n",
       "      <th>VisitorType</th>\n",
       "      <th>Weekend</th>\n",
       "      <th>Revenue</th>\n",
       "    </tr>\n",
       "  </thead>\n",
       "  <tbody>\n",
       "    <tr>\n",
       "      <th>0</th>\n",
       "      <td>0</td>\n",
       "      <td>0.0</td>\n",
       "      <td>0</td>\n",
       "      <td>0.0</td>\n",
       "      <td>1</td>\n",
       "      <td>0.000000</td>\n",
       "      <td>0.20</td>\n",
       "      <td>0.20</td>\n",
       "      <td>0.0</td>\n",
       "      <td>0.0</td>\n",
       "      <td>Feb</td>\n",
       "      <td>1</td>\n",
       "      <td>1</td>\n",
       "      <td>1</td>\n",
       "      <td>1</td>\n",
       "      <td>Returning_Visitor</td>\n",
       "      <td>False</td>\n",
       "      <td>False</td>\n",
       "    </tr>\n",
       "    <tr>\n",
       "      <th>1</th>\n",
       "      <td>0</td>\n",
       "      <td>0.0</td>\n",
       "      <td>0</td>\n",
       "      <td>0.0</td>\n",
       "      <td>2</td>\n",
       "      <td>64.000000</td>\n",
       "      <td>0.00</td>\n",
       "      <td>0.10</td>\n",
       "      <td>0.0</td>\n",
       "      <td>0.0</td>\n",
       "      <td>Feb</td>\n",
       "      <td>2</td>\n",
       "      <td>2</td>\n",
       "      <td>1</td>\n",
       "      <td>2</td>\n",
       "      <td>Returning_Visitor</td>\n",
       "      <td>False</td>\n",
       "      <td>False</td>\n",
       "    </tr>\n",
       "    <tr>\n",
       "      <th>2</th>\n",
       "      <td>0</td>\n",
       "      <td>0.0</td>\n",
       "      <td>0</td>\n",
       "      <td>0.0</td>\n",
       "      <td>1</td>\n",
       "      <td>0.000000</td>\n",
       "      <td>0.20</td>\n",
       "      <td>0.20</td>\n",
       "      <td>0.0</td>\n",
       "      <td>0.0</td>\n",
       "      <td>Feb</td>\n",
       "      <td>4</td>\n",
       "      <td>1</td>\n",
       "      <td>9</td>\n",
       "      <td>3</td>\n",
       "      <td>Returning_Visitor</td>\n",
       "      <td>False</td>\n",
       "      <td>False</td>\n",
       "    </tr>\n",
       "    <tr>\n",
       "      <th>3</th>\n",
       "      <td>0</td>\n",
       "      <td>0.0</td>\n",
       "      <td>0</td>\n",
       "      <td>0.0</td>\n",
       "      <td>2</td>\n",
       "      <td>2.666667</td>\n",
       "      <td>0.05</td>\n",
       "      <td>0.14</td>\n",
       "      <td>0.0</td>\n",
       "      <td>0.0</td>\n",
       "      <td>Feb</td>\n",
       "      <td>3</td>\n",
       "      <td>2</td>\n",
       "      <td>2</td>\n",
       "      <td>4</td>\n",
       "      <td>Returning_Visitor</td>\n",
       "      <td>False</td>\n",
       "      <td>False</td>\n",
       "    </tr>\n",
       "    <tr>\n",
       "      <th>4</th>\n",
       "      <td>0</td>\n",
       "      <td>0.0</td>\n",
       "      <td>0</td>\n",
       "      <td>0.0</td>\n",
       "      <td>10</td>\n",
       "      <td>627.500000</td>\n",
       "      <td>0.02</td>\n",
       "      <td>0.05</td>\n",
       "      <td>0.0</td>\n",
       "      <td>0.0</td>\n",
       "      <td>Feb</td>\n",
       "      <td>3</td>\n",
       "      <td>3</td>\n",
       "      <td>1</td>\n",
       "      <td>4</td>\n",
       "      <td>Returning_Visitor</td>\n",
       "      <td>True</td>\n",
       "      <td>False</td>\n",
       "    </tr>\n",
       "  </tbody>\n",
       "</table>\n",
       "</div>"
      ],
      "text/plain": [
       "   Administrative  Administrative_Duration  Informational  \\\n",
       "0               0                      0.0              0   \n",
       "1               0                      0.0              0   \n",
       "2               0                      0.0              0   \n",
       "3               0                      0.0              0   \n",
       "4               0                      0.0              0   \n",
       "\n",
       "   Informational_Duration  ProductRelated  ProductRelated_Duration  \\\n",
       "0                     0.0               1                 0.000000   \n",
       "1                     0.0               2                64.000000   \n",
       "2                     0.0               1                 0.000000   \n",
       "3                     0.0               2                 2.666667   \n",
       "4                     0.0              10               627.500000   \n",
       "\n",
       "   BounceRates  ExitRates  PageValues  SpecialDay Month  OperatingSystems  \\\n",
       "0         0.20       0.20         0.0         0.0   Feb                 1   \n",
       "1         0.00       0.10         0.0         0.0   Feb                 2   \n",
       "2         0.20       0.20         0.0         0.0   Feb                 4   \n",
       "3         0.05       0.14         0.0         0.0   Feb                 3   \n",
       "4         0.02       0.05         0.0         0.0   Feb                 3   \n",
       "\n",
       "   Browser  Region  TrafficType        VisitorType  Weekend  Revenue  \n",
       "0        1       1            1  Returning_Visitor    False    False  \n",
       "1        2       1            2  Returning_Visitor    False    False  \n",
       "2        1       9            3  Returning_Visitor    False    False  \n",
       "3        2       2            4  Returning_Visitor    False    False  \n",
       "4        3       1            4  Returning_Visitor     True    False  "
      ]
     },
     "execution_count": 55,
     "metadata": {},
     "output_type": "execute_result"
    }
   ],
   "source": [
    "# load dataset\n",
    "df = pd.read_csv(\"data/online_shoppers_intention.csv\")\n",
    "df.head()"
   ]
  },
  {
   "cell_type": "code",
   "execution_count": 56,
   "metadata": {},
   "outputs": [
    {
     "data": {
      "text/plain": [
       "(12330, 18)"
      ]
     },
     "metadata": {},
     "output_type": "display_data"
    },
    {
     "name": "stdout",
     "output_type": "stream",
     "text": [
      "====================================================================================================\n",
      "<class 'pandas.core.frame.DataFrame'>\n",
      "RangeIndex: 12330 entries, 0 to 12329\n",
      "Data columns (total 18 columns):\n",
      " #   Column                   Non-Null Count  Dtype  \n",
      "---  ------                   --------------  -----  \n",
      " 0   Administrative           12330 non-null  int64  \n",
      " 1   Administrative_Duration  12330 non-null  float64\n",
      " 2   Informational            12330 non-null  int64  \n",
      " 3   Informational_Duration   12330 non-null  float64\n",
      " 4   ProductRelated           12330 non-null  int64  \n",
      " 5   ProductRelated_Duration  12330 non-null  float64\n",
      " 6   BounceRates              12330 non-null  float64\n",
      " 7   ExitRates                12330 non-null  float64\n",
      " 8   PageValues               12330 non-null  float64\n",
      " 9   SpecialDay               12330 non-null  float64\n",
      " 10  Month                    12330 non-null  object \n",
      " 11  OperatingSystems         12330 non-null  int64  \n",
      " 12  Browser                  12330 non-null  int64  \n",
      " 13  Region                   12330 non-null  int64  \n",
      " 14  TrafficType              12330 non-null  int64  \n",
      " 15  VisitorType              12330 non-null  object \n",
      " 16  Weekend                  12330 non-null  bool   \n",
      " 17  Revenue                  12330 non-null  bool   \n",
      "dtypes: bool(2), float64(7), int64(7), object(2)\n",
      "memory usage: 1.5+ MB\n"
     ]
    },
    {
     "data": {
      "text/plain": [
       "None"
      ]
     },
     "metadata": {},
     "output_type": "display_data"
    },
    {
     "name": "stdout",
     "output_type": "stream",
     "text": [
      "====================================================================================================\n"
     ]
    },
    {
     "data": {
      "text/html": [
       "<div>\n",
       "<style scoped>\n",
       "    .dataframe tbody tr th:only-of-type {\n",
       "        vertical-align: middle;\n",
       "    }\n",
       "\n",
       "    .dataframe tbody tr th {\n",
       "        vertical-align: top;\n",
       "    }\n",
       "\n",
       "    .dataframe thead th {\n",
       "        text-align: right;\n",
       "    }\n",
       "</style>\n",
       "<table border=\"1\" class=\"dataframe\">\n",
       "  <thead>\n",
       "    <tr style=\"text-align: right;\">\n",
       "      <th></th>\n",
       "      <th>Administrative</th>\n",
       "      <th>Administrative_Duration</th>\n",
       "      <th>Informational</th>\n",
       "      <th>Informational_Duration</th>\n",
       "      <th>ProductRelated</th>\n",
       "      <th>ProductRelated_Duration</th>\n",
       "      <th>BounceRates</th>\n",
       "      <th>ExitRates</th>\n",
       "      <th>PageValues</th>\n",
       "      <th>SpecialDay</th>\n",
       "      <th>OperatingSystems</th>\n",
       "      <th>Browser</th>\n",
       "      <th>Region</th>\n",
       "      <th>TrafficType</th>\n",
       "    </tr>\n",
       "  </thead>\n",
       "  <tbody>\n",
       "    <tr>\n",
       "      <th>count</th>\n",
       "      <td>12330.000000</td>\n",
       "      <td>12330.000000</td>\n",
       "      <td>12330.000000</td>\n",
       "      <td>12330.000000</td>\n",
       "      <td>12330.000000</td>\n",
       "      <td>12330.000000</td>\n",
       "      <td>12330.000000</td>\n",
       "      <td>12330.000000</td>\n",
       "      <td>12330.000000</td>\n",
       "      <td>12330.000000</td>\n",
       "      <td>12330.000000</td>\n",
       "      <td>12330.000000</td>\n",
       "      <td>12330.000000</td>\n",
       "      <td>12330.000000</td>\n",
       "    </tr>\n",
       "    <tr>\n",
       "      <th>mean</th>\n",
       "      <td>2.315166</td>\n",
       "      <td>80.818611</td>\n",
       "      <td>0.503569</td>\n",
       "      <td>34.472398</td>\n",
       "      <td>31.731468</td>\n",
       "      <td>1194.746220</td>\n",
       "      <td>0.022191</td>\n",
       "      <td>0.043073</td>\n",
       "      <td>5.889258</td>\n",
       "      <td>0.061427</td>\n",
       "      <td>2.124006</td>\n",
       "      <td>2.357097</td>\n",
       "      <td>3.147364</td>\n",
       "      <td>4.069586</td>\n",
       "    </tr>\n",
       "    <tr>\n",
       "      <th>std</th>\n",
       "      <td>3.321784</td>\n",
       "      <td>176.779107</td>\n",
       "      <td>1.270156</td>\n",
       "      <td>140.749294</td>\n",
       "      <td>44.475503</td>\n",
       "      <td>1913.669288</td>\n",
       "      <td>0.048488</td>\n",
       "      <td>0.048597</td>\n",
       "      <td>18.568437</td>\n",
       "      <td>0.198917</td>\n",
       "      <td>0.911325</td>\n",
       "      <td>1.717277</td>\n",
       "      <td>2.401591</td>\n",
       "      <td>4.025169</td>\n",
       "    </tr>\n",
       "    <tr>\n",
       "      <th>min</th>\n",
       "      <td>0.000000</td>\n",
       "      <td>0.000000</td>\n",
       "      <td>0.000000</td>\n",
       "      <td>0.000000</td>\n",
       "      <td>0.000000</td>\n",
       "      <td>0.000000</td>\n",
       "      <td>0.000000</td>\n",
       "      <td>0.000000</td>\n",
       "      <td>0.000000</td>\n",
       "      <td>0.000000</td>\n",
       "      <td>1.000000</td>\n",
       "      <td>1.000000</td>\n",
       "      <td>1.000000</td>\n",
       "      <td>1.000000</td>\n",
       "    </tr>\n",
       "    <tr>\n",
       "      <th>25%</th>\n",
       "      <td>0.000000</td>\n",
       "      <td>0.000000</td>\n",
       "      <td>0.000000</td>\n",
       "      <td>0.000000</td>\n",
       "      <td>7.000000</td>\n",
       "      <td>184.137500</td>\n",
       "      <td>0.000000</td>\n",
       "      <td>0.014286</td>\n",
       "      <td>0.000000</td>\n",
       "      <td>0.000000</td>\n",
       "      <td>2.000000</td>\n",
       "      <td>2.000000</td>\n",
       "      <td>1.000000</td>\n",
       "      <td>2.000000</td>\n",
       "    </tr>\n",
       "    <tr>\n",
       "      <th>50%</th>\n",
       "      <td>1.000000</td>\n",
       "      <td>7.500000</td>\n",
       "      <td>0.000000</td>\n",
       "      <td>0.000000</td>\n",
       "      <td>18.000000</td>\n",
       "      <td>598.936905</td>\n",
       "      <td>0.003112</td>\n",
       "      <td>0.025156</td>\n",
       "      <td>0.000000</td>\n",
       "      <td>0.000000</td>\n",
       "      <td>2.000000</td>\n",
       "      <td>2.000000</td>\n",
       "      <td>3.000000</td>\n",
       "      <td>2.000000</td>\n",
       "    </tr>\n",
       "    <tr>\n",
       "      <th>75%</th>\n",
       "      <td>4.000000</td>\n",
       "      <td>93.256250</td>\n",
       "      <td>0.000000</td>\n",
       "      <td>0.000000</td>\n",
       "      <td>38.000000</td>\n",
       "      <td>1464.157214</td>\n",
       "      <td>0.016813</td>\n",
       "      <td>0.050000</td>\n",
       "      <td>0.000000</td>\n",
       "      <td>0.000000</td>\n",
       "      <td>3.000000</td>\n",
       "      <td>2.000000</td>\n",
       "      <td>4.000000</td>\n",
       "      <td>4.000000</td>\n",
       "    </tr>\n",
       "    <tr>\n",
       "      <th>max</th>\n",
       "      <td>27.000000</td>\n",
       "      <td>3398.750000</td>\n",
       "      <td>24.000000</td>\n",
       "      <td>2549.375000</td>\n",
       "      <td>705.000000</td>\n",
       "      <td>63973.522230</td>\n",
       "      <td>0.200000</td>\n",
       "      <td>0.200000</td>\n",
       "      <td>361.763742</td>\n",
       "      <td>1.000000</td>\n",
       "      <td>8.000000</td>\n",
       "      <td>13.000000</td>\n",
       "      <td>9.000000</td>\n",
       "      <td>20.000000</td>\n",
       "    </tr>\n",
       "  </tbody>\n",
       "</table>\n",
       "</div>"
      ],
      "text/plain": [
       "       Administrative  Administrative_Duration  Informational  \\\n",
       "count    12330.000000             12330.000000   12330.000000   \n",
       "mean         2.315166                80.818611       0.503569   \n",
       "std          3.321784               176.779107       1.270156   \n",
       "min          0.000000                 0.000000       0.000000   \n",
       "25%          0.000000                 0.000000       0.000000   \n",
       "50%          1.000000                 7.500000       0.000000   \n",
       "75%          4.000000                93.256250       0.000000   \n",
       "max         27.000000              3398.750000      24.000000   \n",
       "\n",
       "       Informational_Duration  ProductRelated  ProductRelated_Duration  \\\n",
       "count            12330.000000    12330.000000             12330.000000   \n",
       "mean                34.472398       31.731468              1194.746220   \n",
       "std                140.749294       44.475503              1913.669288   \n",
       "min                  0.000000        0.000000                 0.000000   \n",
       "25%                  0.000000        7.000000               184.137500   \n",
       "50%                  0.000000       18.000000               598.936905   \n",
       "75%                  0.000000       38.000000              1464.157214   \n",
       "max               2549.375000      705.000000             63973.522230   \n",
       "\n",
       "        BounceRates     ExitRates    PageValues    SpecialDay  \\\n",
       "count  12330.000000  12330.000000  12330.000000  12330.000000   \n",
       "mean       0.022191      0.043073      5.889258      0.061427   \n",
       "std        0.048488      0.048597     18.568437      0.198917   \n",
       "min        0.000000      0.000000      0.000000      0.000000   \n",
       "25%        0.000000      0.014286      0.000000      0.000000   \n",
       "50%        0.003112      0.025156      0.000000      0.000000   \n",
       "75%        0.016813      0.050000      0.000000      0.000000   \n",
       "max        0.200000      0.200000    361.763742      1.000000   \n",
       "\n",
       "       OperatingSystems       Browser        Region   TrafficType  \n",
       "count      12330.000000  12330.000000  12330.000000  12330.000000  \n",
       "mean           2.124006      2.357097      3.147364      4.069586  \n",
       "std            0.911325      1.717277      2.401591      4.025169  \n",
       "min            1.000000      1.000000      1.000000      1.000000  \n",
       "25%            2.000000      2.000000      1.000000      2.000000  \n",
       "50%            2.000000      2.000000      3.000000      2.000000  \n",
       "75%            3.000000      2.000000      4.000000      4.000000  \n",
       "max            8.000000     13.000000      9.000000     20.000000  "
      ]
     },
     "metadata": {},
     "output_type": "display_data"
    },
    {
     "name": "stdout",
     "output_type": "stream",
     "text": [
      "====================================================================================================\n"
     ]
    },
    {
     "data": {
      "text/plain": [
       "Administrative             0\n",
       "Administrative_Duration    0\n",
       "Informational              0\n",
       "Informational_Duration     0\n",
       "ProductRelated             0\n",
       "ProductRelated_Duration    0\n",
       "BounceRates                0\n",
       "ExitRates                  0\n",
       "PageValues                 0\n",
       "SpecialDay                 0\n",
       "Month                      0\n",
       "OperatingSystems           0\n",
       "Browser                    0\n",
       "Region                     0\n",
       "TrafficType                0\n",
       "VisitorType                0\n",
       "Weekend                    0\n",
       "Revenue                    0\n",
       "dtype: int64"
      ]
     },
     "metadata": {},
     "output_type": "display_data"
    }
   ],
   "source": [
    "# gather datset information\n",
    "display(df.shape)\n",
    "print(100*\"=\")\n",
    "display(df.info())\n",
    "print(100*\"=\")\n",
    "display(df.describe())\n",
    "print(100*\"=\")\n",
    "display(df.isnull().sum())"
   ]
  },
  {
   "cell_type": "code",
   "execution_count": 57,
   "metadata": {},
   "outputs": [
    {
     "name": "stdout",
     "output_type": "stream",
     "text": [
      "May     3364\n",
      "Nov     2998\n",
      "Mar     1907\n",
      "Dec     1727\n",
      "Oct      549\n",
      "Sep      448\n",
      "Aug      433\n",
      "Jul      432\n",
      "June     288\n",
      "Feb      184\n",
      "Name: Month, dtype: int64\n",
      "====================================================================================================\n",
      "Returning_Visitor    10551\n",
      "New_Visitor           1694\n",
      "Other                   85\n",
      "Name: VisitorType, dtype: int64\n",
      "====================================================================================================\n",
      "False    9462\n",
      "True     2868\n",
      "Name: Weekend, dtype: int64\n",
      "====================================================================================================\n",
      "False    10422\n",
      "True      1908\n",
      "Name: Revenue, dtype: int64\n",
      "====================================================================================================\n"
     ]
    }
   ],
   "source": [
    "# checking datatypes\n",
    "columns = df.columns.values \n",
    "for col in columns:\n",
    "    if df[col].dtypes==\"object\" or df[col].dtypes==\"bool\":\n",
    "        print(df[col].value_counts())\n",
    "        print(100*\"=\")"
   ]
  },
  {
   "cell_type": "code",
   "execution_count": 58,
   "metadata": {},
   "outputs": [],
   "source": [
    "# preprocess the data\n",
    "encoder = LabelEncoder()\n",
    "df['Month'] = encoder.fit_transform(df['Month'])\n",
    "df['Revenue'] = encoder.fit_transform(df['Revenue'])\n",
    "df['VisitorType'] = encoder.fit_transform(df['VisitorType'])\n",
    "df['Weekend'] = encoder.fit_transform(df['Weekend'])"
   ]
  },
  {
   "cell_type": "code",
   "execution_count": 59,
   "metadata": {},
   "outputs": [
    {
     "name": "stdout",
     "output_type": "stream",
     "text": [
      "<class 'pandas.core.frame.DataFrame'>\n",
      "RangeIndex: 12330 entries, 0 to 12329\n",
      "Data columns (total 18 columns):\n",
      " #   Column                   Non-Null Count  Dtype  \n",
      "---  ------                   --------------  -----  \n",
      " 0   Administrative           12330 non-null  int64  \n",
      " 1   Administrative_Duration  12330 non-null  float64\n",
      " 2   Informational            12330 non-null  int64  \n",
      " 3   Informational_Duration   12330 non-null  float64\n",
      " 4   ProductRelated           12330 non-null  int64  \n",
      " 5   ProductRelated_Duration  12330 non-null  float64\n",
      " 6   BounceRates              12330 non-null  float64\n",
      " 7   ExitRates                12330 non-null  float64\n",
      " 8   PageValues               12330 non-null  float64\n",
      " 9   SpecialDay               12330 non-null  float64\n",
      " 10  Month                    12330 non-null  int32  \n",
      " 11  OperatingSystems         12330 non-null  int64  \n",
      " 12  Browser                  12330 non-null  int64  \n",
      " 13  Region                   12330 non-null  int64  \n",
      " 14  TrafficType              12330 non-null  int64  \n",
      " 15  VisitorType              12330 non-null  int32  \n",
      " 16  Weekend                  12330 non-null  int64  \n",
      " 17  Revenue                  12330 non-null  int64  \n",
      "dtypes: float64(7), int32(2), int64(9)\n",
      "memory usage: 1.6 MB\n"
     ]
    }
   ],
   "source": [
    "df.info()"
   ]
  },
  {
   "cell_type": "code",
   "execution_count": 60,
   "metadata": {},
   "outputs": [],
   "source": [
    "# input features and target features seperation\n",
    "X = df.drop(columns=['Revenue','Informational_Duration'],axis=1)\n",
    "y_revenue = df['Revenue']\n",
    "y_duration = df['Informational_Duration']"
   ]
  },
  {
   "attachments": {},
   "cell_type": "markdown",
   "metadata": {},
   "source": [
    "Model Building for Revenue prediction"
   ]
  },
  {
   "cell_type": "code",
   "execution_count": 61,
   "metadata": {},
   "outputs": [],
   "source": [
    "models = {\n",
    "    'Random Forest': RandomForestClassifier(),\n",
    "    'Ada boost': AdaBoostClassifier()\n",
    "}"
   ]
  },
  {
   "cell_type": "code",
   "execution_count": 92,
   "metadata": {},
   "outputs": [
    {
     "name": "stdout",
     "output_type": "stream",
     "text": [
      "(9864, 16)\n",
      "(2466, 16)\n",
      "(9864,)\n"
     ]
    }
   ],
   "source": [
    "# spilit the data\n",
    "X_train,X_test,y_train,y_test = train_test_split(X,y_revenue,test_size=0.2,random_state=42)\n",
    "print(X_train.shape)\n",
    "print(X_test.shape)\n",
    "print(y_train.shape)"
   ]
  },
  {
   "cell_type": "code",
   "execution_count": 63,
   "metadata": {},
   "outputs": [
    {
     "name": "stdout",
     "output_type": "stream",
     "text": [
      "Random Forest\n",
      "accuracy score : 0.8941605839416058\n",
      "confusion matrix : [[1978   77]\n",
      " [ 184  227]]\n",
      "Ada boost\n",
      "accuracy score : 0.8832116788321168\n",
      "confusion matrix : [[1955  100]\n",
      " [ 188  223]]\n"
     ]
    }
   ],
   "source": [
    "for i in range(len(list(models))):\n",
    "    model=list(models.values())[i]\n",
    "    model.fit(X_train,y_train)\n",
    "\n",
    "    #Make Predictions\n",
    "    y_pred=model.predict(X_test)\n",
    "    # Calculate accuracy and confusion matrix\n",
    "    accuracy = accuracy_score(y_test, y_pred)\n",
    "    confusion = confusion_matrix(y_test, y_pred) \n",
    "    print(list(models.keys())[i])\n",
    "    print(f\"accuracy score : {accuracy}\")\n",
    "    print(f\"confusion matrix : {confusion}\") "
   ]
  },
  {
   "attachments": {},
   "cell_type": "markdown",
   "metadata": {},
   "source": [
    "Using ensemble learning models Random Forest and Ada boost , Random Forest have more accuracy as compared to Ada boost\n",
    "such as 89.21%"
   ]
  },
  {
   "cell_type": "code",
   "execution_count": 64,
   "metadata": {},
   "outputs": [],
   "source": [
    "# hyper-tune the Random Forest to increase the accuracy score\n",
    "## hypertuning the model using grid search cv\n",
    "params={\n",
    "    \n",
    "    \"n_estimators\":[50,100,200],\n",
    "    \"criterion\":[\"gini\",\"entropy\"],\n",
    "    \"max_depth\":[3,5,10]\n",
    "    \n",
    "}"
   ]
  },
  {
   "cell_type": "code",
   "execution_count": 65,
   "metadata": {},
   "outputs": [
    {
     "name": "stdout",
     "output_type": "stream",
     "text": [
      "Fitting 5 folds for each of 10 candidates, totalling 50 fits\n",
      "[CV 1/5] END criterion=entropy, max_depth=5, n_estimators=200;, score=0.898 total time=   1.3s\n",
      "[CV 2/5] END criterion=entropy, max_depth=5, n_estimators=200;, score=0.900 total time=   1.2s\n",
      "[CV 3/5] END criterion=entropy, max_depth=5, n_estimators=200;, score=0.909 total time=   1.2s\n",
      "[CV 4/5] END criterion=entropy, max_depth=5, n_estimators=200;, score=0.897 total time=   1.0s\n",
      "[CV 5/5] END criterion=entropy, max_depth=5, n_estimators=200;, score=0.909 total time=   1.0s\n",
      "[CV 1/5] END criterion=gini, max_depth=10, n_estimators=50;, score=0.903 total time=   0.3s\n",
      "[CV 2/5] END criterion=gini, max_depth=10, n_estimators=50;, score=0.903 total time=   0.3s\n",
      "[CV 3/5] END criterion=gini, max_depth=10, n_estimators=50;, score=0.915 total time=   0.3s\n",
      "[CV 4/5] END criterion=gini, max_depth=10, n_estimators=50;, score=0.897 total time=   0.3s\n",
      "[CV 5/5] END criterion=gini, max_depth=10, n_estimators=50;, score=0.905 total time=   0.3s\n",
      "[CV 1/5] END criterion=gini, max_depth=3, n_estimators=200;, score=0.871 total time=   0.7s\n",
      "[CV 2/5] END criterion=gini, max_depth=3, n_estimators=200;, score=0.883 total time=   0.7s\n",
      "[CV 3/5] END criterion=gini, max_depth=3, n_estimators=200;, score=0.873 total time=   0.6s\n",
      "[CV 4/5] END criterion=gini, max_depth=3, n_estimators=200;, score=0.882 total time=   0.6s\n",
      "[CV 5/5] END criterion=gini, max_depth=3, n_estimators=200;, score=0.892 total time=   0.6s\n",
      "[CV 1/5] END criterion=entropy, max_depth=5, n_estimators=50;, score=0.903 total time=   0.2s\n",
      "[CV 2/5] END criterion=entropy, max_depth=5, n_estimators=50;, score=0.903 total time=   0.2s\n",
      "[CV 3/5] END criterion=entropy, max_depth=5, n_estimators=50;, score=0.904 total time=   0.2s\n",
      "[CV 4/5] END criterion=entropy, max_depth=5, n_estimators=50;, score=0.899 total time=   0.2s\n",
      "[CV 5/5] END criterion=entropy, max_depth=5, n_estimators=50;, score=0.904 total time=   0.2s\n",
      "[CV 1/5] END criterion=entropy, max_depth=3, n_estimators=100;, score=0.858 total time=   0.3s\n",
      "[CV 2/5] END criterion=entropy, max_depth=3, n_estimators=100;, score=0.879 total time=   0.3s\n",
      "[CV 3/5] END criterion=entropy, max_depth=3, n_estimators=100;, score=0.849 total time=   0.4s\n",
      "[CV 4/5] END criterion=entropy, max_depth=3, n_estimators=100;, score=0.865 total time=   0.3s\n",
      "[CV 5/5] END criterion=entropy, max_depth=3, n_estimators=100;, score=0.889 total time=   0.3s\n",
      "[CV 1/5] END criterion=entropy, max_depth=10, n_estimators=200;, score=0.906 total time=   1.8s\n",
      "[CV 2/5] END criterion=entropy, max_depth=10, n_estimators=200;, score=0.907 total time=   1.6s\n",
      "[CV 3/5] END criterion=entropy, max_depth=10, n_estimators=200;, score=0.915 total time=   1.7s\n",
      "[CV 4/5] END criterion=entropy, max_depth=10, n_estimators=200;, score=0.902 total time=   1.7s\n",
      "[CV 5/5] END criterion=entropy, max_depth=10, n_estimators=200;, score=0.903 total time=   1.7s\n",
      "[CV 1/5] END criterion=gini, max_depth=3, n_estimators=50;, score=0.871 total time=   0.1s\n",
      "[CV 2/5] END criterion=gini, max_depth=3, n_estimators=50;, score=0.883 total time=   0.1s\n",
      "[CV 3/5] END criterion=gini, max_depth=3, n_estimators=50;, score=0.885 total time=   0.1s\n",
      "[CV 4/5] END criterion=gini, max_depth=3, n_estimators=50;, score=0.888 total time=   0.1s\n",
      "[CV 5/5] END criterion=gini, max_depth=3, n_estimators=50;, score=0.862 total time=   0.1s\n",
      "[CV 1/5] END criterion=entropy, max_depth=10, n_estimators=100;, score=0.901 total time=   0.8s\n",
      "[CV 2/5] END criterion=entropy, max_depth=10, n_estimators=100;, score=0.903 total time=   0.9s\n",
      "[CV 3/5] END criterion=entropy, max_depth=10, n_estimators=100;, score=0.913 total time=   0.9s\n",
      "[CV 4/5] END criterion=entropy, max_depth=10, n_estimators=100;, score=0.901 total time=   0.9s\n",
      "[CV 5/5] END criterion=entropy, max_depth=10, n_estimators=100;, score=0.903 total time=   0.9s\n",
      "[CV 1/5] END criterion=gini, max_depth=10, n_estimators=200;, score=0.902 total time=   1.6s\n",
      "[CV 2/5] END criterion=gini, max_depth=10, n_estimators=200;, score=0.904 total time=   1.5s\n",
      "[CV 3/5] END criterion=gini, max_depth=10, n_estimators=200;, score=0.918 total time=   1.5s\n",
      "[CV 4/5] END criterion=gini, max_depth=10, n_estimators=200;, score=0.898 total time=   1.5s\n",
      "[CV 5/5] END criterion=gini, max_depth=10, n_estimators=200;, score=0.905 total time=   1.5s\n",
      "[CV 1/5] END criterion=gini, max_depth=10, n_estimators=100;, score=0.903 total time=   0.7s\n",
      "[CV 2/5] END criterion=gini, max_depth=10, n_estimators=100;, score=0.903 total time=   0.7s\n",
      "[CV 3/5] END criterion=gini, max_depth=10, n_estimators=100;, score=0.916 total time=   0.7s\n",
      "[CV 4/5] END criterion=gini, max_depth=10, n_estimators=100;, score=0.898 total time=   0.7s\n",
      "[CV 5/5] END criterion=gini, max_depth=10, n_estimators=100;, score=0.905 total time=   0.7s\n"
     ]
    },
    {
     "data": {
      "text/html": [
       "<style>#sk-container-id-3 {color: black;background-color: white;}#sk-container-id-3 pre{padding: 0;}#sk-container-id-3 div.sk-toggleable {background-color: white;}#sk-container-id-3 label.sk-toggleable__label {cursor: pointer;display: block;width: 100%;margin-bottom: 0;padding: 0.3em;box-sizing: border-box;text-align: center;}#sk-container-id-3 label.sk-toggleable__label-arrow:before {content: \"▸\";float: left;margin-right: 0.25em;color: #696969;}#sk-container-id-3 label.sk-toggleable__label-arrow:hover:before {color: black;}#sk-container-id-3 div.sk-estimator:hover label.sk-toggleable__label-arrow:before {color: black;}#sk-container-id-3 div.sk-toggleable__content {max-height: 0;max-width: 0;overflow: hidden;text-align: left;background-color: #f0f8ff;}#sk-container-id-3 div.sk-toggleable__content pre {margin: 0.2em;color: black;border-radius: 0.25em;background-color: #f0f8ff;}#sk-container-id-3 input.sk-toggleable__control:checked~div.sk-toggleable__content {max-height: 200px;max-width: 100%;overflow: auto;}#sk-container-id-3 input.sk-toggleable__control:checked~label.sk-toggleable__label-arrow:before {content: \"▾\";}#sk-container-id-3 div.sk-estimator input.sk-toggleable__control:checked~label.sk-toggleable__label {background-color: #d4ebff;}#sk-container-id-3 div.sk-label input.sk-toggleable__control:checked~label.sk-toggleable__label {background-color: #d4ebff;}#sk-container-id-3 input.sk-hidden--visually {border: 0;clip: rect(1px 1px 1px 1px);clip: rect(1px, 1px, 1px, 1px);height: 1px;margin: -1px;overflow: hidden;padding: 0;position: absolute;width: 1px;}#sk-container-id-3 div.sk-estimator {font-family: monospace;background-color: #f0f8ff;border: 1px dotted black;border-radius: 0.25em;box-sizing: border-box;margin-bottom: 0.5em;}#sk-container-id-3 div.sk-estimator:hover {background-color: #d4ebff;}#sk-container-id-3 div.sk-parallel-item::after {content: \"\";width: 100%;border-bottom: 1px solid gray;flex-grow: 1;}#sk-container-id-3 div.sk-label:hover label.sk-toggleable__label {background-color: #d4ebff;}#sk-container-id-3 div.sk-serial::before {content: \"\";position: absolute;border-left: 1px solid gray;box-sizing: border-box;top: 0;bottom: 0;left: 50%;z-index: 0;}#sk-container-id-3 div.sk-serial {display: flex;flex-direction: column;align-items: center;background-color: white;padding-right: 0.2em;padding-left: 0.2em;position: relative;}#sk-container-id-3 div.sk-item {position: relative;z-index: 1;}#sk-container-id-3 div.sk-parallel {display: flex;align-items: stretch;justify-content: center;background-color: white;position: relative;}#sk-container-id-3 div.sk-item::before, #sk-container-id-3 div.sk-parallel-item::before {content: \"\";position: absolute;border-left: 1px solid gray;box-sizing: border-box;top: 0;bottom: 0;left: 50%;z-index: -1;}#sk-container-id-3 div.sk-parallel-item {display: flex;flex-direction: column;z-index: 1;position: relative;background-color: white;}#sk-container-id-3 div.sk-parallel-item:first-child::after {align-self: flex-end;width: 50%;}#sk-container-id-3 div.sk-parallel-item:last-child::after {align-self: flex-start;width: 50%;}#sk-container-id-3 div.sk-parallel-item:only-child::after {width: 0;}#sk-container-id-3 div.sk-dashed-wrapped {border: 1px dashed gray;margin: 0 0.4em 0.5em 0.4em;box-sizing: border-box;padding-bottom: 0.4em;background-color: white;}#sk-container-id-3 div.sk-label label {font-family: monospace;font-weight: bold;display: inline-block;line-height: 1.2em;}#sk-container-id-3 div.sk-label-container {text-align: center;}#sk-container-id-3 div.sk-container {/* jupyter's `normalize.less` sets `[hidden] { display: none; }` but bootstrap.min.css set `[hidden] { display: none !important; }` so we also need the `!important` here to be able to override the default hidden behavior on the sphinx rendered scikit-learn.org. See: https://github.com/scikit-learn/scikit-learn/issues/21755 */display: inline-block !important;position: relative;}#sk-container-id-3 div.sk-text-repr-fallback {display: none;}</style><div id=\"sk-container-id-3\" class=\"sk-top-container\"><div class=\"sk-text-repr-fallback\"><pre>RandomizedSearchCV(cv=5, estimator=RandomForestClassifier(),\n",
       "                   param_distributions={&#x27;criterion&#x27;: [&#x27;gini&#x27;, &#x27;entropy&#x27;],\n",
       "                                        &#x27;max_depth&#x27;: [3, 5, 10],\n",
       "                                        &#x27;n_estimators&#x27;: [50, 100, 200]},\n",
       "                   scoring=&#x27;accuracy&#x27;, verbose=3)</pre><b>In a Jupyter environment, please rerun this cell to show the HTML representation or trust the notebook. <br />On GitHub, the HTML representation is unable to render, please try loading this page with nbviewer.org.</b></div><div class=\"sk-container\" hidden><div class=\"sk-item sk-dashed-wrapped\"><div class=\"sk-label-container\"><div class=\"sk-label sk-toggleable\"><input class=\"sk-toggleable__control sk-hidden--visually\" id=\"sk-estimator-id-7\" type=\"checkbox\" ><label for=\"sk-estimator-id-7\" class=\"sk-toggleable__label sk-toggleable__label-arrow\">RandomizedSearchCV</label><div class=\"sk-toggleable__content\"><pre>RandomizedSearchCV(cv=5, estimator=RandomForestClassifier(),\n",
       "                   param_distributions={&#x27;criterion&#x27;: [&#x27;gini&#x27;, &#x27;entropy&#x27;],\n",
       "                                        &#x27;max_depth&#x27;: [3, 5, 10],\n",
       "                                        &#x27;n_estimators&#x27;: [50, 100, 200]},\n",
       "                   scoring=&#x27;accuracy&#x27;, verbose=3)</pre></div></div></div><div class=\"sk-parallel\"><div class=\"sk-parallel-item\"><div class=\"sk-item\"><div class=\"sk-label-container\"><div class=\"sk-label sk-toggleable\"><input class=\"sk-toggleable__control sk-hidden--visually\" id=\"sk-estimator-id-8\" type=\"checkbox\" ><label for=\"sk-estimator-id-8\" class=\"sk-toggleable__label sk-toggleable__label-arrow\">estimator: RandomForestClassifier</label><div class=\"sk-toggleable__content\"><pre>RandomForestClassifier()</pre></div></div></div><div class=\"sk-serial\"><div class=\"sk-item\"><div class=\"sk-estimator sk-toggleable\"><input class=\"sk-toggleable__control sk-hidden--visually\" id=\"sk-estimator-id-9\" type=\"checkbox\" ><label for=\"sk-estimator-id-9\" class=\"sk-toggleable__label sk-toggleable__label-arrow\">RandomForestClassifier</label><div class=\"sk-toggleable__content\"><pre>RandomForestClassifier()</pre></div></div></div></div></div></div></div></div></div></div>"
      ],
      "text/plain": [
       "RandomizedSearchCV(cv=5, estimator=RandomForestClassifier(),\n",
       "                   param_distributions={'criterion': ['gini', 'entropy'],\n",
       "                                        'max_depth': [3, 5, 10],\n",
       "                                        'n_estimators': [50, 100, 200]},\n",
       "                   scoring='accuracy', verbose=3)"
      ]
     },
     "execution_count": 65,
     "metadata": {},
     "output_type": "execute_result"
    }
   ],
   "source": [
    "model = RandomForestClassifier()\n",
    "cv=RandomizedSearchCV(model,param_distributions=params,scoring='accuracy',cv=5,verbose=3)\n",
    "cv.fit(X_train,y_train)"
   ]
  },
  {
   "cell_type": "code",
   "execution_count": 66,
   "metadata": {},
   "outputs": [
    {
     "data": {
      "text/plain": [
       "{'n_estimators': 200, 'max_depth': 10, 'criterion': 'entropy'}"
      ]
     },
     "execution_count": 66,
     "metadata": {},
     "output_type": "execute_result"
    }
   ],
   "source": [
    "cv.best_params_"
   ]
  },
  {
   "cell_type": "code",
   "execution_count": 67,
   "metadata": {},
   "outputs": [
    {
     "name": "stdout",
     "output_type": "stream",
     "text": [
      "89.66\n"
     ]
    }
   ],
   "source": [
    "# model training with best suitable hyper-tuned parameters\n",
    "\n",
    "bestmodel=RandomForestClassifier(n_estimators=50,max_depth=10,criterion='entropy',oob_score=True)\n",
    "bestmodel.fit(X_train,y_train)\n",
    "y_pred=bestmodel.predict(X_test)\n",
    "best_accuracy=round(accuracy_score(y_test,y_pred)*100,2)\n",
    "print(best_accuracy)"
   ]
  },
  {
   "attachments": {},
   "cell_type": "markdown",
   "metadata": {},
   "source": [
    "Best accuracy achieved is 89.62% for revenue_prediction"
   ]
  },
  {
   "attachments": {},
   "cell_type": "markdown",
   "metadata": {},
   "source": [
    "Model Building to find the Informational_Duration using the Ensemble learning algorithm\n"
   ]
  },
  {
   "cell_type": "code",
   "execution_count": 70,
   "metadata": {},
   "outputs": [],
   "source": [
    "# spilit the data\n",
    "from sklearn.preprocessing import StandardScaler\n",
    "X_train,X_test,y_train,y_test = train_test_split(X,y_duration,test_size=0.2,random_state=42)\n",
    "std_scalar = StandardScaler()"
   ]
  },
  {
   "cell_type": "code",
   "execution_count": 71,
   "metadata": {},
   "outputs": [],
   "source": [
    "X_train = std_scalar.fit_transform(X_train)\n",
    "X_test = std_scalar.transform(X_test)"
   ]
  },
  {
   "cell_type": "code",
   "execution_count": 72,
   "metadata": {},
   "outputs": [
    {
     "name": "stdout",
     "output_type": "stream",
     "text": [
      "Random Forest\n",
      "Model Training Performance\n",
      "RMSE: 117.59479415379396\n",
      "MAE: 31.341671612886124\n",
      "R2 score 36.65270514927856\n",
      "===================================\n",
      "\n",
      "\n",
      "Ada boost\n",
      "Model Training Performance\n",
      "RMSE: 156.60640876394814\n",
      "MAE: 58.73543787845321\n",
      "R2 score -12.34944787793295\n",
      "===================================\n",
      "\n",
      "\n"
     ]
    }
   ],
   "source": [
    "models = {\n",
    "    'Random Forest': RandomForestRegressor(),\n",
    "    'Ada boost': AdaBoostRegressor()\n",
    "}\n",
    "\n",
    "\n",
    "import numpy as np\n",
    "from sklearn.metrics import r2_score,mean_absolute_error,mean_squared_error\n",
    "def evaluate_model(true, predicted):\n",
    "    mae = mean_absolute_error(true, predicted)\n",
    "    mse = mean_squared_error(true, predicted)\n",
    "    rmse = np.sqrt(mean_squared_error(true, predicted))\n",
    "    r2_square = r2_score(true, predicted)\n",
    "    return mae, rmse, r2_square\n",
    "\n",
    "trained_model_list=[]\n",
    "model_list=[]\n",
    "r2_list=[]\n",
    "\n",
    "\n",
    "for i in range(len(list(models))):\n",
    "    model=list(models.values())[i]\n",
    "    model.fit(X_train,y_train)\n",
    "\n",
    "    #Make Predictions\n",
    "    y_pred=model.predict(X_test)\n",
    "    # Calculate accuracy and confusion matrix\n",
    "    mae, rmse, r2_square=evaluate_model(y_test,y_pred)\n",
    "\n",
    "    print(list(models.keys())[i])\n",
    "    model_list.append(list(models.keys())[i])\n",
    "\n",
    "    print('Model Training Performance')\n",
    "    print(\"RMSE:\",rmse)\n",
    "    print(\"MAE:\",mae)\n",
    "    print(\"R2 score\",r2_square*100)\n",
    "\n",
    "    r2_list.append(r2_square)\n",
    "    \n",
    "    print('='*35)\n",
    "    print('\\n')"
   ]
  },
  {
   "cell_type": "code",
   "execution_count": 77,
   "metadata": {},
   "outputs": [],
   "source": [
    "# hyper-tune the Random Forest to increase the accuracy score\n",
    "## hypertuning the model using grid search cv\n",
    "params={\n",
    "    \n",
    "    \"n_estimators\":[50,100,200],\n",
    "    \"criterion\":['squared_error', 'absolute_error', 'friedman_mse', 'poisson'],\n",
    "    \"max_depth\":[3,5,10]\n",
    "    \n",
    "}\n",
    "\n"
   ]
  },
  {
   "cell_type": "code",
   "execution_count": 78,
   "metadata": {},
   "outputs": [
    {
     "name": "stdout",
     "output_type": "stream",
     "text": [
      "Fitting 5 folds for each of 10 candidates, totalling 50 fits\n"
     ]
    },
    {
     "name": "stderr",
     "output_type": "stream",
     "text": [
      "e:\\ineuron_FSDS\\BMI_prediction\\venv\\lib\\site-packages\\sklearn\\model_selection\\_validation.py:778: UserWarning: Scoring failed. The score on this train-test partition for these parameters will be set to nan. Details: \n",
      "Traceback (most recent call last):\n",
      "  File \"e:\\ineuron_FSDS\\BMI_prediction\\venv\\lib\\site-packages\\sklearn\\model_selection\\_validation.py\", line 767, in _score\n",
      "    scores = scorer(estimator, X_test, y_test)\n",
      "  File \"e:\\ineuron_FSDS\\BMI_prediction\\venv\\lib\\site-packages\\sklearn\\metrics\\_scorer.py\", line 234, in __call__\n",
      "    return self._score(\n",
      "  File \"e:\\ineuron_FSDS\\BMI_prediction\\venv\\lib\\site-packages\\sklearn\\metrics\\_scorer.py\", line 282, in _score\n",
      "    return self._sign * self._score_func(y_true, y_pred, **self._kwargs)\n",
      "  File \"e:\\ineuron_FSDS\\BMI_prediction\\venv\\lib\\site-packages\\sklearn\\utils\\_param_validation.py\", line 192, in wrapper\n",
      "    return func(*args, **kwargs)\n",
      "  File \"e:\\ineuron_FSDS\\BMI_prediction\\venv\\lib\\site-packages\\sklearn\\metrics\\_classification.py\", line 221, in accuracy_score\n",
      "    y_type, y_true, y_pred = _check_targets(y_true, y_pred)\n",
      "  File \"e:\\ineuron_FSDS\\BMI_prediction\\venv\\lib\\site-packages\\sklearn\\metrics\\_classification.py\", line 106, in _check_targets\n",
      "    raise ValueError(\"{0} is not supported\".format(y_type))\n",
      "ValueError: continuous is not supported\n",
      "\n",
      "  warnings.warn(\n"
     ]
    },
    {
     "name": "stdout",
     "output_type": "stream",
     "text": [
      "[CV 1/5] END criterion=friedman_mse, max_depth=10, n_estimators=50;, score=nan total time=   0.6s\n"
     ]
    },
    {
     "name": "stderr",
     "output_type": "stream",
     "text": [
      "e:\\ineuron_FSDS\\BMI_prediction\\venv\\lib\\site-packages\\sklearn\\model_selection\\_validation.py:778: UserWarning: Scoring failed. The score on this train-test partition for these parameters will be set to nan. Details: \n",
      "Traceback (most recent call last):\n",
      "  File \"e:\\ineuron_FSDS\\BMI_prediction\\venv\\lib\\site-packages\\sklearn\\model_selection\\_validation.py\", line 767, in _score\n",
      "    scores = scorer(estimator, X_test, y_test)\n",
      "  File \"e:\\ineuron_FSDS\\BMI_prediction\\venv\\lib\\site-packages\\sklearn\\metrics\\_scorer.py\", line 234, in __call__\n",
      "    return self._score(\n",
      "  File \"e:\\ineuron_FSDS\\BMI_prediction\\venv\\lib\\site-packages\\sklearn\\metrics\\_scorer.py\", line 282, in _score\n",
      "    return self._sign * self._score_func(y_true, y_pred, **self._kwargs)\n",
      "  File \"e:\\ineuron_FSDS\\BMI_prediction\\venv\\lib\\site-packages\\sklearn\\utils\\_param_validation.py\", line 192, in wrapper\n",
      "    return func(*args, **kwargs)\n",
      "  File \"e:\\ineuron_FSDS\\BMI_prediction\\venv\\lib\\site-packages\\sklearn\\metrics\\_classification.py\", line 221, in accuracy_score\n",
      "    y_type, y_true, y_pred = _check_targets(y_true, y_pred)\n",
      "  File \"e:\\ineuron_FSDS\\BMI_prediction\\venv\\lib\\site-packages\\sklearn\\metrics\\_classification.py\", line 106, in _check_targets\n",
      "    raise ValueError(\"{0} is not supported\".format(y_type))\n",
      "ValueError: continuous is not supported\n",
      "\n",
      "  warnings.warn(\n"
     ]
    },
    {
     "name": "stdout",
     "output_type": "stream",
     "text": [
      "[CV 2/5] END criterion=friedman_mse, max_depth=10, n_estimators=50;, score=nan total time=   0.5s\n"
     ]
    },
    {
     "name": "stderr",
     "output_type": "stream",
     "text": [
      "e:\\ineuron_FSDS\\BMI_prediction\\venv\\lib\\site-packages\\sklearn\\model_selection\\_validation.py:778: UserWarning: Scoring failed. The score on this train-test partition for these parameters will be set to nan. Details: \n",
      "Traceback (most recent call last):\n",
      "  File \"e:\\ineuron_FSDS\\BMI_prediction\\venv\\lib\\site-packages\\sklearn\\model_selection\\_validation.py\", line 767, in _score\n",
      "    scores = scorer(estimator, X_test, y_test)\n",
      "  File \"e:\\ineuron_FSDS\\BMI_prediction\\venv\\lib\\site-packages\\sklearn\\metrics\\_scorer.py\", line 234, in __call__\n",
      "    return self._score(\n",
      "  File \"e:\\ineuron_FSDS\\BMI_prediction\\venv\\lib\\site-packages\\sklearn\\metrics\\_scorer.py\", line 282, in _score\n",
      "    return self._sign * self._score_func(y_true, y_pred, **self._kwargs)\n",
      "  File \"e:\\ineuron_FSDS\\BMI_prediction\\venv\\lib\\site-packages\\sklearn\\utils\\_param_validation.py\", line 192, in wrapper\n",
      "    return func(*args, **kwargs)\n",
      "  File \"e:\\ineuron_FSDS\\BMI_prediction\\venv\\lib\\site-packages\\sklearn\\metrics\\_classification.py\", line 221, in accuracy_score\n",
      "    y_type, y_true, y_pred = _check_targets(y_true, y_pred)\n",
      "  File \"e:\\ineuron_FSDS\\BMI_prediction\\venv\\lib\\site-packages\\sklearn\\metrics\\_classification.py\", line 106, in _check_targets\n",
      "    raise ValueError(\"{0} is not supported\".format(y_type))\n",
      "ValueError: continuous is not supported\n",
      "\n",
      "  warnings.warn(\n"
     ]
    },
    {
     "name": "stdout",
     "output_type": "stream",
     "text": [
      "[CV 3/5] END criterion=friedman_mse, max_depth=10, n_estimators=50;, score=nan total time=   0.5s\n"
     ]
    },
    {
     "name": "stderr",
     "output_type": "stream",
     "text": [
      "e:\\ineuron_FSDS\\BMI_prediction\\venv\\lib\\site-packages\\sklearn\\model_selection\\_validation.py:778: UserWarning: Scoring failed. The score on this train-test partition for these parameters will be set to nan. Details: \n",
      "Traceback (most recent call last):\n",
      "  File \"e:\\ineuron_FSDS\\BMI_prediction\\venv\\lib\\site-packages\\sklearn\\model_selection\\_validation.py\", line 767, in _score\n",
      "    scores = scorer(estimator, X_test, y_test)\n",
      "  File \"e:\\ineuron_FSDS\\BMI_prediction\\venv\\lib\\site-packages\\sklearn\\metrics\\_scorer.py\", line 234, in __call__\n",
      "    return self._score(\n",
      "  File \"e:\\ineuron_FSDS\\BMI_prediction\\venv\\lib\\site-packages\\sklearn\\metrics\\_scorer.py\", line 282, in _score\n",
      "    return self._sign * self._score_func(y_true, y_pred, **self._kwargs)\n",
      "  File \"e:\\ineuron_FSDS\\BMI_prediction\\venv\\lib\\site-packages\\sklearn\\utils\\_param_validation.py\", line 192, in wrapper\n",
      "    return func(*args, **kwargs)\n",
      "  File \"e:\\ineuron_FSDS\\BMI_prediction\\venv\\lib\\site-packages\\sklearn\\metrics\\_classification.py\", line 221, in accuracy_score\n",
      "    y_type, y_true, y_pred = _check_targets(y_true, y_pred)\n",
      "  File \"e:\\ineuron_FSDS\\BMI_prediction\\venv\\lib\\site-packages\\sklearn\\metrics\\_classification.py\", line 106, in _check_targets\n",
      "    raise ValueError(\"{0} is not supported\".format(y_type))\n",
      "ValueError: continuous is not supported\n",
      "\n",
      "  warnings.warn(\n"
     ]
    },
    {
     "name": "stdout",
     "output_type": "stream",
     "text": [
      "[CV 4/5] END criterion=friedman_mse, max_depth=10, n_estimators=50;, score=nan total time=   0.5s\n"
     ]
    },
    {
     "name": "stderr",
     "output_type": "stream",
     "text": [
      "e:\\ineuron_FSDS\\BMI_prediction\\venv\\lib\\site-packages\\sklearn\\model_selection\\_validation.py:778: UserWarning: Scoring failed. The score on this train-test partition for these parameters will be set to nan. Details: \n",
      "Traceback (most recent call last):\n",
      "  File \"e:\\ineuron_FSDS\\BMI_prediction\\venv\\lib\\site-packages\\sklearn\\model_selection\\_validation.py\", line 767, in _score\n",
      "    scores = scorer(estimator, X_test, y_test)\n",
      "  File \"e:\\ineuron_FSDS\\BMI_prediction\\venv\\lib\\site-packages\\sklearn\\metrics\\_scorer.py\", line 234, in __call__\n",
      "    return self._score(\n",
      "  File \"e:\\ineuron_FSDS\\BMI_prediction\\venv\\lib\\site-packages\\sklearn\\metrics\\_scorer.py\", line 282, in _score\n",
      "    return self._sign * self._score_func(y_true, y_pred, **self._kwargs)\n",
      "  File \"e:\\ineuron_FSDS\\BMI_prediction\\venv\\lib\\site-packages\\sklearn\\utils\\_param_validation.py\", line 192, in wrapper\n",
      "    return func(*args, **kwargs)\n",
      "  File \"e:\\ineuron_FSDS\\BMI_prediction\\venv\\lib\\site-packages\\sklearn\\metrics\\_classification.py\", line 221, in accuracy_score\n",
      "    y_type, y_true, y_pred = _check_targets(y_true, y_pred)\n",
      "  File \"e:\\ineuron_FSDS\\BMI_prediction\\venv\\lib\\site-packages\\sklearn\\metrics\\_classification.py\", line 106, in _check_targets\n",
      "    raise ValueError(\"{0} is not supported\".format(y_type))\n",
      "ValueError: continuous is not supported\n",
      "\n",
      "  warnings.warn(\n"
     ]
    },
    {
     "name": "stdout",
     "output_type": "stream",
     "text": [
      "[CV 5/5] END criterion=friedman_mse, max_depth=10, n_estimators=50;, score=nan total time=   0.6s\n"
     ]
    },
    {
     "name": "stderr",
     "output_type": "stream",
     "text": [
      "e:\\ineuron_FSDS\\BMI_prediction\\venv\\lib\\site-packages\\sklearn\\model_selection\\_validation.py:778: UserWarning: Scoring failed. The score on this train-test partition for these parameters will be set to nan. Details: \n",
      "Traceback (most recent call last):\n",
      "  File \"e:\\ineuron_FSDS\\BMI_prediction\\venv\\lib\\site-packages\\sklearn\\model_selection\\_validation.py\", line 767, in _score\n",
      "    scores = scorer(estimator, X_test, y_test)\n",
      "  File \"e:\\ineuron_FSDS\\BMI_prediction\\venv\\lib\\site-packages\\sklearn\\metrics\\_scorer.py\", line 234, in __call__\n",
      "    return self._score(\n",
      "  File \"e:\\ineuron_FSDS\\BMI_prediction\\venv\\lib\\site-packages\\sklearn\\metrics\\_scorer.py\", line 282, in _score\n",
      "    return self._sign * self._score_func(y_true, y_pred, **self._kwargs)\n",
      "  File \"e:\\ineuron_FSDS\\BMI_prediction\\venv\\lib\\site-packages\\sklearn\\utils\\_param_validation.py\", line 192, in wrapper\n",
      "    return func(*args, **kwargs)\n",
      "  File \"e:\\ineuron_FSDS\\BMI_prediction\\venv\\lib\\site-packages\\sklearn\\metrics\\_classification.py\", line 221, in accuracy_score\n",
      "    y_type, y_true, y_pred = _check_targets(y_true, y_pred)\n",
      "  File \"e:\\ineuron_FSDS\\BMI_prediction\\venv\\lib\\site-packages\\sklearn\\metrics\\_classification.py\", line 106, in _check_targets\n",
      "    raise ValueError(\"{0} is not supported\".format(y_type))\n",
      "ValueError: continuous is not supported\n",
      "\n",
      "  warnings.warn(\n"
     ]
    },
    {
     "name": "stdout",
     "output_type": "stream",
     "text": [
      "[CV 1/5] END criterion=squared_error, max_depth=5, n_estimators=100;, score=nan total time=   0.8s\n"
     ]
    },
    {
     "name": "stderr",
     "output_type": "stream",
     "text": [
      "e:\\ineuron_FSDS\\BMI_prediction\\venv\\lib\\site-packages\\sklearn\\model_selection\\_validation.py:778: UserWarning: Scoring failed. The score on this train-test partition for these parameters will be set to nan. Details: \n",
      "Traceback (most recent call last):\n",
      "  File \"e:\\ineuron_FSDS\\BMI_prediction\\venv\\lib\\site-packages\\sklearn\\model_selection\\_validation.py\", line 767, in _score\n",
      "    scores = scorer(estimator, X_test, y_test)\n",
      "  File \"e:\\ineuron_FSDS\\BMI_prediction\\venv\\lib\\site-packages\\sklearn\\metrics\\_scorer.py\", line 234, in __call__\n",
      "    return self._score(\n",
      "  File \"e:\\ineuron_FSDS\\BMI_prediction\\venv\\lib\\site-packages\\sklearn\\metrics\\_scorer.py\", line 282, in _score\n",
      "    return self._sign * self._score_func(y_true, y_pred, **self._kwargs)\n",
      "  File \"e:\\ineuron_FSDS\\BMI_prediction\\venv\\lib\\site-packages\\sklearn\\utils\\_param_validation.py\", line 192, in wrapper\n",
      "    return func(*args, **kwargs)\n",
      "  File \"e:\\ineuron_FSDS\\BMI_prediction\\venv\\lib\\site-packages\\sklearn\\metrics\\_classification.py\", line 221, in accuracy_score\n",
      "    y_type, y_true, y_pred = _check_targets(y_true, y_pred)\n",
      "  File \"e:\\ineuron_FSDS\\BMI_prediction\\venv\\lib\\site-packages\\sklearn\\metrics\\_classification.py\", line 106, in _check_targets\n",
      "    raise ValueError(\"{0} is not supported\".format(y_type))\n",
      "ValueError: continuous is not supported\n",
      "\n",
      "  warnings.warn(\n"
     ]
    },
    {
     "name": "stdout",
     "output_type": "stream",
     "text": [
      "[CV 2/5] END criterion=squared_error, max_depth=5, n_estimators=100;, score=nan total time=   0.8s\n"
     ]
    },
    {
     "name": "stderr",
     "output_type": "stream",
     "text": [
      "e:\\ineuron_FSDS\\BMI_prediction\\venv\\lib\\site-packages\\sklearn\\model_selection\\_validation.py:778: UserWarning: Scoring failed. The score on this train-test partition for these parameters will be set to nan. Details: \n",
      "Traceback (most recent call last):\n",
      "  File \"e:\\ineuron_FSDS\\BMI_prediction\\venv\\lib\\site-packages\\sklearn\\model_selection\\_validation.py\", line 767, in _score\n",
      "    scores = scorer(estimator, X_test, y_test)\n",
      "  File \"e:\\ineuron_FSDS\\BMI_prediction\\venv\\lib\\site-packages\\sklearn\\metrics\\_scorer.py\", line 234, in __call__\n",
      "    return self._score(\n",
      "  File \"e:\\ineuron_FSDS\\BMI_prediction\\venv\\lib\\site-packages\\sklearn\\metrics\\_scorer.py\", line 282, in _score\n",
      "    return self._sign * self._score_func(y_true, y_pred, **self._kwargs)\n",
      "  File \"e:\\ineuron_FSDS\\BMI_prediction\\venv\\lib\\site-packages\\sklearn\\utils\\_param_validation.py\", line 192, in wrapper\n",
      "    return func(*args, **kwargs)\n",
      "  File \"e:\\ineuron_FSDS\\BMI_prediction\\venv\\lib\\site-packages\\sklearn\\metrics\\_classification.py\", line 221, in accuracy_score\n",
      "    y_type, y_true, y_pred = _check_targets(y_true, y_pred)\n",
      "  File \"e:\\ineuron_FSDS\\BMI_prediction\\venv\\lib\\site-packages\\sklearn\\metrics\\_classification.py\", line 106, in _check_targets\n",
      "    raise ValueError(\"{0} is not supported\".format(y_type))\n",
      "ValueError: continuous is not supported\n",
      "\n",
      "  warnings.warn(\n"
     ]
    },
    {
     "name": "stdout",
     "output_type": "stream",
     "text": [
      "[CV 3/5] END criterion=squared_error, max_depth=5, n_estimators=100;, score=nan total time=   0.8s\n"
     ]
    },
    {
     "name": "stderr",
     "output_type": "stream",
     "text": [
      "e:\\ineuron_FSDS\\BMI_prediction\\venv\\lib\\site-packages\\sklearn\\model_selection\\_validation.py:778: UserWarning: Scoring failed. The score on this train-test partition for these parameters will be set to nan. Details: \n",
      "Traceback (most recent call last):\n",
      "  File \"e:\\ineuron_FSDS\\BMI_prediction\\venv\\lib\\site-packages\\sklearn\\model_selection\\_validation.py\", line 767, in _score\n",
      "    scores = scorer(estimator, X_test, y_test)\n",
      "  File \"e:\\ineuron_FSDS\\BMI_prediction\\venv\\lib\\site-packages\\sklearn\\metrics\\_scorer.py\", line 234, in __call__\n",
      "    return self._score(\n",
      "  File \"e:\\ineuron_FSDS\\BMI_prediction\\venv\\lib\\site-packages\\sklearn\\metrics\\_scorer.py\", line 282, in _score\n",
      "    return self._sign * self._score_func(y_true, y_pred, **self._kwargs)\n",
      "  File \"e:\\ineuron_FSDS\\BMI_prediction\\venv\\lib\\site-packages\\sklearn\\utils\\_param_validation.py\", line 192, in wrapper\n",
      "    return func(*args, **kwargs)\n",
      "  File \"e:\\ineuron_FSDS\\BMI_prediction\\venv\\lib\\site-packages\\sklearn\\metrics\\_classification.py\", line 221, in accuracy_score\n",
      "    y_type, y_true, y_pred = _check_targets(y_true, y_pred)\n",
      "  File \"e:\\ineuron_FSDS\\BMI_prediction\\venv\\lib\\site-packages\\sklearn\\metrics\\_classification.py\", line 106, in _check_targets\n",
      "    raise ValueError(\"{0} is not supported\".format(y_type))\n",
      "ValueError: continuous is not supported\n",
      "\n",
      "  warnings.warn(\n"
     ]
    },
    {
     "name": "stdout",
     "output_type": "stream",
     "text": [
      "[CV 4/5] END criterion=squared_error, max_depth=5, n_estimators=100;, score=nan total time=   0.8s\n"
     ]
    },
    {
     "name": "stderr",
     "output_type": "stream",
     "text": [
      "e:\\ineuron_FSDS\\BMI_prediction\\venv\\lib\\site-packages\\sklearn\\model_selection\\_validation.py:778: UserWarning: Scoring failed. The score on this train-test partition for these parameters will be set to nan. Details: \n",
      "Traceback (most recent call last):\n",
      "  File \"e:\\ineuron_FSDS\\BMI_prediction\\venv\\lib\\site-packages\\sklearn\\model_selection\\_validation.py\", line 767, in _score\n",
      "    scores = scorer(estimator, X_test, y_test)\n",
      "  File \"e:\\ineuron_FSDS\\BMI_prediction\\venv\\lib\\site-packages\\sklearn\\metrics\\_scorer.py\", line 234, in __call__\n",
      "    return self._score(\n",
      "  File \"e:\\ineuron_FSDS\\BMI_prediction\\venv\\lib\\site-packages\\sklearn\\metrics\\_scorer.py\", line 282, in _score\n",
      "    return self._sign * self._score_func(y_true, y_pred, **self._kwargs)\n",
      "  File \"e:\\ineuron_FSDS\\BMI_prediction\\venv\\lib\\site-packages\\sklearn\\utils\\_param_validation.py\", line 192, in wrapper\n",
      "    return func(*args, **kwargs)\n",
      "  File \"e:\\ineuron_FSDS\\BMI_prediction\\venv\\lib\\site-packages\\sklearn\\metrics\\_classification.py\", line 221, in accuracy_score\n",
      "    y_type, y_true, y_pred = _check_targets(y_true, y_pred)\n",
      "  File \"e:\\ineuron_FSDS\\BMI_prediction\\venv\\lib\\site-packages\\sklearn\\metrics\\_classification.py\", line 106, in _check_targets\n",
      "    raise ValueError(\"{0} is not supported\".format(y_type))\n",
      "ValueError: continuous is not supported\n",
      "\n",
      "  warnings.warn(\n"
     ]
    },
    {
     "name": "stdout",
     "output_type": "stream",
     "text": [
      "[CV 5/5] END criterion=squared_error, max_depth=5, n_estimators=100;, score=nan total time=   0.7s\n"
     ]
    },
    {
     "name": "stderr",
     "output_type": "stream",
     "text": [
      "e:\\ineuron_FSDS\\BMI_prediction\\venv\\lib\\site-packages\\sklearn\\model_selection\\_validation.py:778: UserWarning: Scoring failed. The score on this train-test partition for these parameters will be set to nan. Details: \n",
      "Traceback (most recent call last):\n",
      "  File \"e:\\ineuron_FSDS\\BMI_prediction\\venv\\lib\\site-packages\\sklearn\\model_selection\\_validation.py\", line 767, in _score\n",
      "    scores = scorer(estimator, X_test, y_test)\n",
      "  File \"e:\\ineuron_FSDS\\BMI_prediction\\venv\\lib\\site-packages\\sklearn\\metrics\\_scorer.py\", line 234, in __call__\n",
      "    return self._score(\n",
      "  File \"e:\\ineuron_FSDS\\BMI_prediction\\venv\\lib\\site-packages\\sklearn\\metrics\\_scorer.py\", line 282, in _score\n",
      "    return self._sign * self._score_func(y_true, y_pred, **self._kwargs)\n",
      "  File \"e:\\ineuron_FSDS\\BMI_prediction\\venv\\lib\\site-packages\\sklearn\\utils\\_param_validation.py\", line 192, in wrapper\n",
      "    return func(*args, **kwargs)\n",
      "  File \"e:\\ineuron_FSDS\\BMI_prediction\\venv\\lib\\site-packages\\sklearn\\metrics\\_classification.py\", line 221, in accuracy_score\n",
      "    y_type, y_true, y_pred = _check_targets(y_true, y_pred)\n",
      "  File \"e:\\ineuron_FSDS\\BMI_prediction\\venv\\lib\\site-packages\\sklearn\\metrics\\_classification.py\", line 106, in _check_targets\n",
      "    raise ValueError(\"{0} is not supported\".format(y_type))\n",
      "ValueError: continuous is not supported\n",
      "\n",
      "  warnings.warn(\n"
     ]
    },
    {
     "name": "stdout",
     "output_type": "stream",
     "text": [
      "[CV 1/5] END criterion=poisson, max_depth=5, n_estimators=100;, score=nan total time=   0.7s\n"
     ]
    },
    {
     "name": "stderr",
     "output_type": "stream",
     "text": [
      "e:\\ineuron_FSDS\\BMI_prediction\\venv\\lib\\site-packages\\sklearn\\model_selection\\_validation.py:778: UserWarning: Scoring failed. The score on this train-test partition for these parameters will be set to nan. Details: \n",
      "Traceback (most recent call last):\n",
      "  File \"e:\\ineuron_FSDS\\BMI_prediction\\venv\\lib\\site-packages\\sklearn\\model_selection\\_validation.py\", line 767, in _score\n",
      "    scores = scorer(estimator, X_test, y_test)\n",
      "  File \"e:\\ineuron_FSDS\\BMI_prediction\\venv\\lib\\site-packages\\sklearn\\metrics\\_scorer.py\", line 234, in __call__\n",
      "    return self._score(\n",
      "  File \"e:\\ineuron_FSDS\\BMI_prediction\\venv\\lib\\site-packages\\sklearn\\metrics\\_scorer.py\", line 282, in _score\n",
      "    return self._sign * self._score_func(y_true, y_pred, **self._kwargs)\n",
      "  File \"e:\\ineuron_FSDS\\BMI_prediction\\venv\\lib\\site-packages\\sklearn\\utils\\_param_validation.py\", line 192, in wrapper\n",
      "    return func(*args, **kwargs)\n",
      "  File \"e:\\ineuron_FSDS\\BMI_prediction\\venv\\lib\\site-packages\\sklearn\\metrics\\_classification.py\", line 221, in accuracy_score\n",
      "    y_type, y_true, y_pred = _check_targets(y_true, y_pred)\n",
      "  File \"e:\\ineuron_FSDS\\BMI_prediction\\venv\\lib\\site-packages\\sklearn\\metrics\\_classification.py\", line 106, in _check_targets\n",
      "    raise ValueError(\"{0} is not supported\".format(y_type))\n",
      "ValueError: continuous is not supported\n",
      "\n",
      "  warnings.warn(\n"
     ]
    },
    {
     "name": "stdout",
     "output_type": "stream",
     "text": [
      "[CV 2/5] END criterion=poisson, max_depth=5, n_estimators=100;, score=nan total time=   0.8s\n"
     ]
    },
    {
     "name": "stderr",
     "output_type": "stream",
     "text": [
      "e:\\ineuron_FSDS\\BMI_prediction\\venv\\lib\\site-packages\\sklearn\\model_selection\\_validation.py:778: UserWarning: Scoring failed. The score on this train-test partition for these parameters will be set to nan. Details: \n",
      "Traceback (most recent call last):\n",
      "  File \"e:\\ineuron_FSDS\\BMI_prediction\\venv\\lib\\site-packages\\sklearn\\model_selection\\_validation.py\", line 767, in _score\n",
      "    scores = scorer(estimator, X_test, y_test)\n",
      "  File \"e:\\ineuron_FSDS\\BMI_prediction\\venv\\lib\\site-packages\\sklearn\\metrics\\_scorer.py\", line 234, in __call__\n",
      "    return self._score(\n",
      "  File \"e:\\ineuron_FSDS\\BMI_prediction\\venv\\lib\\site-packages\\sklearn\\metrics\\_scorer.py\", line 282, in _score\n",
      "    return self._sign * self._score_func(y_true, y_pred, **self._kwargs)\n",
      "  File \"e:\\ineuron_FSDS\\BMI_prediction\\venv\\lib\\site-packages\\sklearn\\utils\\_param_validation.py\", line 192, in wrapper\n",
      "    return func(*args, **kwargs)\n",
      "  File \"e:\\ineuron_FSDS\\BMI_prediction\\venv\\lib\\site-packages\\sklearn\\metrics\\_classification.py\", line 221, in accuracy_score\n",
      "    y_type, y_true, y_pred = _check_targets(y_true, y_pred)\n",
      "  File \"e:\\ineuron_FSDS\\BMI_prediction\\venv\\lib\\site-packages\\sklearn\\metrics\\_classification.py\", line 106, in _check_targets\n",
      "    raise ValueError(\"{0} is not supported\".format(y_type))\n",
      "ValueError: continuous is not supported\n",
      "\n",
      "  warnings.warn(\n"
     ]
    },
    {
     "name": "stdout",
     "output_type": "stream",
     "text": [
      "[CV 3/5] END criterion=poisson, max_depth=5, n_estimators=100;, score=nan total time=   0.7s\n"
     ]
    },
    {
     "name": "stderr",
     "output_type": "stream",
     "text": [
      "e:\\ineuron_FSDS\\BMI_prediction\\venv\\lib\\site-packages\\sklearn\\model_selection\\_validation.py:778: UserWarning: Scoring failed. The score on this train-test partition for these parameters will be set to nan. Details: \n",
      "Traceback (most recent call last):\n",
      "  File \"e:\\ineuron_FSDS\\BMI_prediction\\venv\\lib\\site-packages\\sklearn\\model_selection\\_validation.py\", line 767, in _score\n",
      "    scores = scorer(estimator, X_test, y_test)\n",
      "  File \"e:\\ineuron_FSDS\\BMI_prediction\\venv\\lib\\site-packages\\sklearn\\metrics\\_scorer.py\", line 234, in __call__\n",
      "    return self._score(\n",
      "  File \"e:\\ineuron_FSDS\\BMI_prediction\\venv\\lib\\site-packages\\sklearn\\metrics\\_scorer.py\", line 282, in _score\n",
      "    return self._sign * self._score_func(y_true, y_pred, **self._kwargs)\n",
      "  File \"e:\\ineuron_FSDS\\BMI_prediction\\venv\\lib\\site-packages\\sklearn\\utils\\_param_validation.py\", line 192, in wrapper\n",
      "    return func(*args, **kwargs)\n",
      "  File \"e:\\ineuron_FSDS\\BMI_prediction\\venv\\lib\\site-packages\\sklearn\\metrics\\_classification.py\", line 221, in accuracy_score\n",
      "    y_type, y_true, y_pred = _check_targets(y_true, y_pred)\n",
      "  File \"e:\\ineuron_FSDS\\BMI_prediction\\venv\\lib\\site-packages\\sklearn\\metrics\\_classification.py\", line 106, in _check_targets\n",
      "    raise ValueError(\"{0} is not supported\".format(y_type))\n",
      "ValueError: continuous is not supported\n",
      "\n",
      "  warnings.warn(\n"
     ]
    },
    {
     "name": "stdout",
     "output_type": "stream",
     "text": [
      "[CV 4/5] END criterion=poisson, max_depth=5, n_estimators=100;, score=nan total time=   0.6s\n"
     ]
    },
    {
     "name": "stderr",
     "output_type": "stream",
     "text": [
      "e:\\ineuron_FSDS\\BMI_prediction\\venv\\lib\\site-packages\\sklearn\\model_selection\\_validation.py:778: UserWarning: Scoring failed. The score on this train-test partition for these parameters will be set to nan. Details: \n",
      "Traceback (most recent call last):\n",
      "  File \"e:\\ineuron_FSDS\\BMI_prediction\\venv\\lib\\site-packages\\sklearn\\model_selection\\_validation.py\", line 767, in _score\n",
      "    scores = scorer(estimator, X_test, y_test)\n",
      "  File \"e:\\ineuron_FSDS\\BMI_prediction\\venv\\lib\\site-packages\\sklearn\\metrics\\_scorer.py\", line 234, in __call__\n",
      "    return self._score(\n",
      "  File \"e:\\ineuron_FSDS\\BMI_prediction\\venv\\lib\\site-packages\\sklearn\\metrics\\_scorer.py\", line 282, in _score\n",
      "    return self._sign * self._score_func(y_true, y_pred, **self._kwargs)\n",
      "  File \"e:\\ineuron_FSDS\\BMI_prediction\\venv\\lib\\site-packages\\sklearn\\utils\\_param_validation.py\", line 192, in wrapper\n",
      "    return func(*args, **kwargs)\n",
      "  File \"e:\\ineuron_FSDS\\BMI_prediction\\venv\\lib\\site-packages\\sklearn\\metrics\\_classification.py\", line 221, in accuracy_score\n",
      "    y_type, y_true, y_pred = _check_targets(y_true, y_pred)\n",
      "  File \"e:\\ineuron_FSDS\\BMI_prediction\\venv\\lib\\site-packages\\sklearn\\metrics\\_classification.py\", line 106, in _check_targets\n",
      "    raise ValueError(\"{0} is not supported\".format(y_type))\n",
      "ValueError: continuous is not supported\n",
      "\n",
      "  warnings.warn(\n"
     ]
    },
    {
     "name": "stdout",
     "output_type": "stream",
     "text": [
      "[CV 5/5] END criterion=poisson, max_depth=5, n_estimators=100;, score=nan total time=   0.9s\n"
     ]
    },
    {
     "name": "stderr",
     "output_type": "stream",
     "text": [
      "e:\\ineuron_FSDS\\BMI_prediction\\venv\\lib\\site-packages\\sklearn\\model_selection\\_validation.py:778: UserWarning: Scoring failed. The score on this train-test partition for these parameters will be set to nan. Details: \n",
      "Traceback (most recent call last):\n",
      "  File \"e:\\ineuron_FSDS\\BMI_prediction\\venv\\lib\\site-packages\\sklearn\\model_selection\\_validation.py\", line 767, in _score\n",
      "    scores = scorer(estimator, X_test, y_test)\n",
      "  File \"e:\\ineuron_FSDS\\BMI_prediction\\venv\\lib\\site-packages\\sklearn\\metrics\\_scorer.py\", line 234, in __call__\n",
      "    return self._score(\n",
      "  File \"e:\\ineuron_FSDS\\BMI_prediction\\venv\\lib\\site-packages\\sklearn\\metrics\\_scorer.py\", line 282, in _score\n",
      "    return self._sign * self._score_func(y_true, y_pred, **self._kwargs)\n",
      "  File \"e:\\ineuron_FSDS\\BMI_prediction\\venv\\lib\\site-packages\\sklearn\\utils\\_param_validation.py\", line 192, in wrapper\n",
      "    return func(*args, **kwargs)\n",
      "  File \"e:\\ineuron_FSDS\\BMI_prediction\\venv\\lib\\site-packages\\sklearn\\metrics\\_classification.py\", line 221, in accuracy_score\n",
      "    y_type, y_true, y_pred = _check_targets(y_true, y_pred)\n",
      "  File \"e:\\ineuron_FSDS\\BMI_prediction\\venv\\lib\\site-packages\\sklearn\\metrics\\_classification.py\", line 106, in _check_targets\n",
      "    raise ValueError(\"{0} is not supported\".format(y_type))\n",
      "ValueError: continuous is not supported\n",
      "\n",
      "  warnings.warn(\n"
     ]
    },
    {
     "name": "stdout",
     "output_type": "stream",
     "text": [
      "[CV 1/5] END criterion=squared_error, max_depth=3, n_estimators=100;, score=nan total time=   0.6s\n"
     ]
    },
    {
     "name": "stderr",
     "output_type": "stream",
     "text": [
      "e:\\ineuron_FSDS\\BMI_prediction\\venv\\lib\\site-packages\\sklearn\\model_selection\\_validation.py:778: UserWarning: Scoring failed. The score on this train-test partition for these parameters will be set to nan. Details: \n",
      "Traceback (most recent call last):\n",
      "  File \"e:\\ineuron_FSDS\\BMI_prediction\\venv\\lib\\site-packages\\sklearn\\model_selection\\_validation.py\", line 767, in _score\n",
      "    scores = scorer(estimator, X_test, y_test)\n",
      "  File \"e:\\ineuron_FSDS\\BMI_prediction\\venv\\lib\\site-packages\\sklearn\\metrics\\_scorer.py\", line 234, in __call__\n",
      "    return self._score(\n",
      "  File \"e:\\ineuron_FSDS\\BMI_prediction\\venv\\lib\\site-packages\\sklearn\\metrics\\_scorer.py\", line 282, in _score\n",
      "    return self._sign * self._score_func(y_true, y_pred, **self._kwargs)\n",
      "  File \"e:\\ineuron_FSDS\\BMI_prediction\\venv\\lib\\site-packages\\sklearn\\utils\\_param_validation.py\", line 192, in wrapper\n",
      "    return func(*args, **kwargs)\n",
      "  File \"e:\\ineuron_FSDS\\BMI_prediction\\venv\\lib\\site-packages\\sklearn\\metrics\\_classification.py\", line 221, in accuracy_score\n",
      "    y_type, y_true, y_pred = _check_targets(y_true, y_pred)\n",
      "  File \"e:\\ineuron_FSDS\\BMI_prediction\\venv\\lib\\site-packages\\sklearn\\metrics\\_classification.py\", line 106, in _check_targets\n",
      "    raise ValueError(\"{0} is not supported\".format(y_type))\n",
      "ValueError: continuous is not supported\n",
      "\n",
      "  warnings.warn(\n"
     ]
    },
    {
     "name": "stdout",
     "output_type": "stream",
     "text": [
      "[CV 2/5] END criterion=squared_error, max_depth=3, n_estimators=100;, score=nan total time=   0.6s\n"
     ]
    },
    {
     "name": "stderr",
     "output_type": "stream",
     "text": [
      "e:\\ineuron_FSDS\\BMI_prediction\\venv\\lib\\site-packages\\sklearn\\model_selection\\_validation.py:778: UserWarning: Scoring failed. The score on this train-test partition for these parameters will be set to nan. Details: \n",
      "Traceback (most recent call last):\n",
      "  File \"e:\\ineuron_FSDS\\BMI_prediction\\venv\\lib\\site-packages\\sklearn\\model_selection\\_validation.py\", line 767, in _score\n",
      "    scores = scorer(estimator, X_test, y_test)\n",
      "  File \"e:\\ineuron_FSDS\\BMI_prediction\\venv\\lib\\site-packages\\sklearn\\metrics\\_scorer.py\", line 234, in __call__\n",
      "    return self._score(\n",
      "  File \"e:\\ineuron_FSDS\\BMI_prediction\\venv\\lib\\site-packages\\sklearn\\metrics\\_scorer.py\", line 282, in _score\n",
      "    return self._sign * self._score_func(y_true, y_pred, **self._kwargs)\n",
      "  File \"e:\\ineuron_FSDS\\BMI_prediction\\venv\\lib\\site-packages\\sklearn\\utils\\_param_validation.py\", line 192, in wrapper\n",
      "    return func(*args, **kwargs)\n",
      "  File \"e:\\ineuron_FSDS\\BMI_prediction\\venv\\lib\\site-packages\\sklearn\\metrics\\_classification.py\", line 221, in accuracy_score\n",
      "    y_type, y_true, y_pred = _check_targets(y_true, y_pred)\n",
      "  File \"e:\\ineuron_FSDS\\BMI_prediction\\venv\\lib\\site-packages\\sklearn\\metrics\\_classification.py\", line 106, in _check_targets\n",
      "    raise ValueError(\"{0} is not supported\".format(y_type))\n",
      "ValueError: continuous is not supported\n",
      "\n",
      "  warnings.warn(\n"
     ]
    },
    {
     "name": "stdout",
     "output_type": "stream",
     "text": [
      "[CV 3/5] END criterion=squared_error, max_depth=3, n_estimators=100;, score=nan total time=   0.6s\n"
     ]
    },
    {
     "name": "stderr",
     "output_type": "stream",
     "text": [
      "e:\\ineuron_FSDS\\BMI_prediction\\venv\\lib\\site-packages\\sklearn\\model_selection\\_validation.py:778: UserWarning: Scoring failed. The score on this train-test partition for these parameters will be set to nan. Details: \n",
      "Traceback (most recent call last):\n",
      "  File \"e:\\ineuron_FSDS\\BMI_prediction\\venv\\lib\\site-packages\\sklearn\\model_selection\\_validation.py\", line 767, in _score\n",
      "    scores = scorer(estimator, X_test, y_test)\n",
      "  File \"e:\\ineuron_FSDS\\BMI_prediction\\venv\\lib\\site-packages\\sklearn\\metrics\\_scorer.py\", line 234, in __call__\n",
      "    return self._score(\n",
      "  File \"e:\\ineuron_FSDS\\BMI_prediction\\venv\\lib\\site-packages\\sklearn\\metrics\\_scorer.py\", line 282, in _score\n",
      "    return self._sign * self._score_func(y_true, y_pred, **self._kwargs)\n",
      "  File \"e:\\ineuron_FSDS\\BMI_prediction\\venv\\lib\\site-packages\\sklearn\\utils\\_param_validation.py\", line 192, in wrapper\n",
      "    return func(*args, **kwargs)\n",
      "  File \"e:\\ineuron_FSDS\\BMI_prediction\\venv\\lib\\site-packages\\sklearn\\metrics\\_classification.py\", line 221, in accuracy_score\n",
      "    y_type, y_true, y_pred = _check_targets(y_true, y_pred)\n",
      "  File \"e:\\ineuron_FSDS\\BMI_prediction\\venv\\lib\\site-packages\\sklearn\\metrics\\_classification.py\", line 106, in _check_targets\n",
      "    raise ValueError(\"{0} is not supported\".format(y_type))\n",
      "ValueError: continuous is not supported\n",
      "\n",
      "  warnings.warn(\n"
     ]
    },
    {
     "name": "stdout",
     "output_type": "stream",
     "text": [
      "[CV 4/5] END criterion=squared_error, max_depth=3, n_estimators=100;, score=nan total time=   0.6s\n"
     ]
    },
    {
     "name": "stderr",
     "output_type": "stream",
     "text": [
      "e:\\ineuron_FSDS\\BMI_prediction\\venv\\lib\\site-packages\\sklearn\\model_selection\\_validation.py:778: UserWarning: Scoring failed. The score on this train-test partition for these parameters will be set to nan. Details: \n",
      "Traceback (most recent call last):\n",
      "  File \"e:\\ineuron_FSDS\\BMI_prediction\\venv\\lib\\site-packages\\sklearn\\model_selection\\_validation.py\", line 767, in _score\n",
      "    scores = scorer(estimator, X_test, y_test)\n",
      "  File \"e:\\ineuron_FSDS\\BMI_prediction\\venv\\lib\\site-packages\\sklearn\\metrics\\_scorer.py\", line 234, in __call__\n",
      "    return self._score(\n",
      "  File \"e:\\ineuron_FSDS\\BMI_prediction\\venv\\lib\\site-packages\\sklearn\\metrics\\_scorer.py\", line 282, in _score\n",
      "    return self._sign * self._score_func(y_true, y_pred, **self._kwargs)\n",
      "  File \"e:\\ineuron_FSDS\\BMI_prediction\\venv\\lib\\site-packages\\sklearn\\utils\\_param_validation.py\", line 192, in wrapper\n",
      "    return func(*args, **kwargs)\n",
      "  File \"e:\\ineuron_FSDS\\BMI_prediction\\venv\\lib\\site-packages\\sklearn\\metrics\\_classification.py\", line 221, in accuracy_score\n",
      "    y_type, y_true, y_pred = _check_targets(y_true, y_pred)\n",
      "  File \"e:\\ineuron_FSDS\\BMI_prediction\\venv\\lib\\site-packages\\sklearn\\metrics\\_classification.py\", line 106, in _check_targets\n",
      "    raise ValueError(\"{0} is not supported\".format(y_type))\n",
      "ValueError: continuous is not supported\n",
      "\n",
      "  warnings.warn(\n"
     ]
    },
    {
     "name": "stdout",
     "output_type": "stream",
     "text": [
      "[CV 5/5] END criterion=squared_error, max_depth=3, n_estimators=100;, score=nan total time=   0.6s\n"
     ]
    },
    {
     "name": "stderr",
     "output_type": "stream",
     "text": [
      "e:\\ineuron_FSDS\\BMI_prediction\\venv\\lib\\site-packages\\sklearn\\model_selection\\_validation.py:778: UserWarning: Scoring failed. The score on this train-test partition for these parameters will be set to nan. Details: \n",
      "Traceback (most recent call last):\n",
      "  File \"e:\\ineuron_FSDS\\BMI_prediction\\venv\\lib\\site-packages\\sklearn\\model_selection\\_validation.py\", line 767, in _score\n",
      "    scores = scorer(estimator, X_test, y_test)\n",
      "  File \"e:\\ineuron_FSDS\\BMI_prediction\\venv\\lib\\site-packages\\sklearn\\metrics\\_scorer.py\", line 234, in __call__\n",
      "    return self._score(\n",
      "  File \"e:\\ineuron_FSDS\\BMI_prediction\\venv\\lib\\site-packages\\sklearn\\metrics\\_scorer.py\", line 282, in _score\n",
      "    return self._sign * self._score_func(y_true, y_pred, **self._kwargs)\n",
      "  File \"e:\\ineuron_FSDS\\BMI_prediction\\venv\\lib\\site-packages\\sklearn\\utils\\_param_validation.py\", line 192, in wrapper\n",
      "    return func(*args, **kwargs)\n",
      "  File \"e:\\ineuron_FSDS\\BMI_prediction\\venv\\lib\\site-packages\\sklearn\\metrics\\_classification.py\", line 221, in accuracy_score\n",
      "    y_type, y_true, y_pred = _check_targets(y_true, y_pred)\n",
      "  File \"e:\\ineuron_FSDS\\BMI_prediction\\venv\\lib\\site-packages\\sklearn\\metrics\\_classification.py\", line 106, in _check_targets\n",
      "    raise ValueError(\"{0} is not supported\".format(y_type))\n",
      "ValueError: continuous is not supported\n",
      "\n",
      "  warnings.warn(\n"
     ]
    },
    {
     "name": "stdout",
     "output_type": "stream",
     "text": [
      "[CV 1/5] END criterion=friedman_mse, max_depth=3, n_estimators=200;, score=nan total time=   1.3s\n"
     ]
    },
    {
     "name": "stderr",
     "output_type": "stream",
     "text": [
      "e:\\ineuron_FSDS\\BMI_prediction\\venv\\lib\\site-packages\\sklearn\\model_selection\\_validation.py:778: UserWarning: Scoring failed. The score on this train-test partition for these parameters will be set to nan. Details: \n",
      "Traceback (most recent call last):\n",
      "  File \"e:\\ineuron_FSDS\\BMI_prediction\\venv\\lib\\site-packages\\sklearn\\model_selection\\_validation.py\", line 767, in _score\n",
      "    scores = scorer(estimator, X_test, y_test)\n",
      "  File \"e:\\ineuron_FSDS\\BMI_prediction\\venv\\lib\\site-packages\\sklearn\\metrics\\_scorer.py\", line 234, in __call__\n",
      "    return self._score(\n",
      "  File \"e:\\ineuron_FSDS\\BMI_prediction\\venv\\lib\\site-packages\\sklearn\\metrics\\_scorer.py\", line 282, in _score\n",
      "    return self._sign * self._score_func(y_true, y_pred, **self._kwargs)\n",
      "  File \"e:\\ineuron_FSDS\\BMI_prediction\\venv\\lib\\site-packages\\sklearn\\utils\\_param_validation.py\", line 192, in wrapper\n",
      "    return func(*args, **kwargs)\n",
      "  File \"e:\\ineuron_FSDS\\BMI_prediction\\venv\\lib\\site-packages\\sklearn\\metrics\\_classification.py\", line 221, in accuracy_score\n",
      "    y_type, y_true, y_pred = _check_targets(y_true, y_pred)\n",
      "  File \"e:\\ineuron_FSDS\\BMI_prediction\\venv\\lib\\site-packages\\sklearn\\metrics\\_classification.py\", line 106, in _check_targets\n",
      "    raise ValueError(\"{0} is not supported\".format(y_type))\n",
      "ValueError: continuous is not supported\n",
      "\n",
      "  warnings.warn(\n"
     ]
    },
    {
     "name": "stdout",
     "output_type": "stream",
     "text": [
      "[CV 2/5] END criterion=friedman_mse, max_depth=3, n_estimators=200;, score=nan total time=   1.4s\n"
     ]
    },
    {
     "name": "stderr",
     "output_type": "stream",
     "text": [
      "e:\\ineuron_FSDS\\BMI_prediction\\venv\\lib\\site-packages\\sklearn\\model_selection\\_validation.py:778: UserWarning: Scoring failed. The score on this train-test partition for these parameters will be set to nan. Details: \n",
      "Traceback (most recent call last):\n",
      "  File \"e:\\ineuron_FSDS\\BMI_prediction\\venv\\lib\\site-packages\\sklearn\\model_selection\\_validation.py\", line 767, in _score\n",
      "    scores = scorer(estimator, X_test, y_test)\n",
      "  File \"e:\\ineuron_FSDS\\BMI_prediction\\venv\\lib\\site-packages\\sklearn\\metrics\\_scorer.py\", line 234, in __call__\n",
      "    return self._score(\n",
      "  File \"e:\\ineuron_FSDS\\BMI_prediction\\venv\\lib\\site-packages\\sklearn\\metrics\\_scorer.py\", line 282, in _score\n",
      "    return self._sign * self._score_func(y_true, y_pred, **self._kwargs)\n",
      "  File \"e:\\ineuron_FSDS\\BMI_prediction\\venv\\lib\\site-packages\\sklearn\\utils\\_param_validation.py\", line 192, in wrapper\n",
      "    return func(*args, **kwargs)\n",
      "  File \"e:\\ineuron_FSDS\\BMI_prediction\\venv\\lib\\site-packages\\sklearn\\metrics\\_classification.py\", line 221, in accuracy_score\n",
      "    y_type, y_true, y_pred = _check_targets(y_true, y_pred)\n",
      "  File \"e:\\ineuron_FSDS\\BMI_prediction\\venv\\lib\\site-packages\\sklearn\\metrics\\_classification.py\", line 106, in _check_targets\n",
      "    raise ValueError(\"{0} is not supported\".format(y_type))\n",
      "ValueError: continuous is not supported\n",
      "\n",
      "  warnings.warn(\n"
     ]
    },
    {
     "name": "stdout",
     "output_type": "stream",
     "text": [
      "[CV 3/5] END criterion=friedman_mse, max_depth=3, n_estimators=200;, score=nan total time=   1.4s\n"
     ]
    },
    {
     "name": "stderr",
     "output_type": "stream",
     "text": [
      "e:\\ineuron_FSDS\\BMI_prediction\\venv\\lib\\site-packages\\sklearn\\model_selection\\_validation.py:778: UserWarning: Scoring failed. The score on this train-test partition for these parameters will be set to nan. Details: \n",
      "Traceback (most recent call last):\n",
      "  File \"e:\\ineuron_FSDS\\BMI_prediction\\venv\\lib\\site-packages\\sklearn\\model_selection\\_validation.py\", line 767, in _score\n",
      "    scores = scorer(estimator, X_test, y_test)\n",
      "  File \"e:\\ineuron_FSDS\\BMI_prediction\\venv\\lib\\site-packages\\sklearn\\metrics\\_scorer.py\", line 234, in __call__\n",
      "    return self._score(\n",
      "  File \"e:\\ineuron_FSDS\\BMI_prediction\\venv\\lib\\site-packages\\sklearn\\metrics\\_scorer.py\", line 282, in _score\n",
      "    return self._sign * self._score_func(y_true, y_pred, **self._kwargs)\n",
      "  File \"e:\\ineuron_FSDS\\BMI_prediction\\venv\\lib\\site-packages\\sklearn\\utils\\_param_validation.py\", line 192, in wrapper\n",
      "    return func(*args, **kwargs)\n",
      "  File \"e:\\ineuron_FSDS\\BMI_prediction\\venv\\lib\\site-packages\\sklearn\\metrics\\_classification.py\", line 221, in accuracy_score\n",
      "    y_type, y_true, y_pred = _check_targets(y_true, y_pred)\n",
      "  File \"e:\\ineuron_FSDS\\BMI_prediction\\venv\\lib\\site-packages\\sklearn\\metrics\\_classification.py\", line 106, in _check_targets\n",
      "    raise ValueError(\"{0} is not supported\".format(y_type))\n",
      "ValueError: continuous is not supported\n",
      "\n",
      "  warnings.warn(\n"
     ]
    },
    {
     "name": "stdout",
     "output_type": "stream",
     "text": [
      "[CV 4/5] END criterion=friedman_mse, max_depth=3, n_estimators=200;, score=nan total time=   1.5s\n"
     ]
    },
    {
     "name": "stderr",
     "output_type": "stream",
     "text": [
      "e:\\ineuron_FSDS\\BMI_prediction\\venv\\lib\\site-packages\\sklearn\\model_selection\\_validation.py:778: UserWarning: Scoring failed. The score on this train-test partition for these parameters will be set to nan. Details: \n",
      "Traceback (most recent call last):\n",
      "  File \"e:\\ineuron_FSDS\\BMI_prediction\\venv\\lib\\site-packages\\sklearn\\model_selection\\_validation.py\", line 767, in _score\n",
      "    scores = scorer(estimator, X_test, y_test)\n",
      "  File \"e:\\ineuron_FSDS\\BMI_prediction\\venv\\lib\\site-packages\\sklearn\\metrics\\_scorer.py\", line 234, in __call__\n",
      "    return self._score(\n",
      "  File \"e:\\ineuron_FSDS\\BMI_prediction\\venv\\lib\\site-packages\\sklearn\\metrics\\_scorer.py\", line 282, in _score\n",
      "    return self._sign * self._score_func(y_true, y_pred, **self._kwargs)\n",
      "  File \"e:\\ineuron_FSDS\\BMI_prediction\\venv\\lib\\site-packages\\sklearn\\utils\\_param_validation.py\", line 192, in wrapper\n",
      "    return func(*args, **kwargs)\n",
      "  File \"e:\\ineuron_FSDS\\BMI_prediction\\venv\\lib\\site-packages\\sklearn\\metrics\\_classification.py\", line 221, in accuracy_score\n",
      "    y_type, y_true, y_pred = _check_targets(y_true, y_pred)\n",
      "  File \"e:\\ineuron_FSDS\\BMI_prediction\\venv\\lib\\site-packages\\sklearn\\metrics\\_classification.py\", line 106, in _check_targets\n",
      "    raise ValueError(\"{0} is not supported\".format(y_type))\n",
      "ValueError: continuous is not supported\n",
      "\n",
      "  warnings.warn(\n"
     ]
    },
    {
     "name": "stdout",
     "output_type": "stream",
     "text": [
      "[CV 5/5] END criterion=friedman_mse, max_depth=3, n_estimators=200;, score=nan total time=   1.4s\n"
     ]
    },
    {
     "name": "stderr",
     "output_type": "stream",
     "text": [
      "e:\\ineuron_FSDS\\BMI_prediction\\venv\\lib\\site-packages\\sklearn\\model_selection\\_validation.py:778: UserWarning: Scoring failed. The score on this train-test partition for these parameters will be set to nan. Details: \n",
      "Traceback (most recent call last):\n",
      "  File \"e:\\ineuron_FSDS\\BMI_prediction\\venv\\lib\\site-packages\\sklearn\\model_selection\\_validation.py\", line 767, in _score\n",
      "    scores = scorer(estimator, X_test, y_test)\n",
      "  File \"e:\\ineuron_FSDS\\BMI_prediction\\venv\\lib\\site-packages\\sklearn\\metrics\\_scorer.py\", line 234, in __call__\n",
      "    return self._score(\n",
      "  File \"e:\\ineuron_FSDS\\BMI_prediction\\venv\\lib\\site-packages\\sklearn\\metrics\\_scorer.py\", line 282, in _score\n",
      "    return self._sign * self._score_func(y_true, y_pred, **self._kwargs)\n",
      "  File \"e:\\ineuron_FSDS\\BMI_prediction\\venv\\lib\\site-packages\\sklearn\\utils\\_param_validation.py\", line 192, in wrapper\n",
      "    return func(*args, **kwargs)\n",
      "  File \"e:\\ineuron_FSDS\\BMI_prediction\\venv\\lib\\site-packages\\sklearn\\metrics\\_classification.py\", line 221, in accuracy_score\n",
      "    y_type, y_true, y_pred = _check_targets(y_true, y_pred)\n",
      "  File \"e:\\ineuron_FSDS\\BMI_prediction\\venv\\lib\\site-packages\\sklearn\\metrics\\_classification.py\", line 106, in _check_targets\n",
      "    raise ValueError(\"{0} is not supported\".format(y_type))\n",
      "ValueError: continuous is not supported\n",
      "\n",
      "  warnings.warn(\n"
     ]
    },
    {
     "name": "stdout",
     "output_type": "stream",
     "text": [
      "[CV 1/5] END criterion=poisson, max_depth=5, n_estimators=50;, score=nan total time=   0.3s\n"
     ]
    },
    {
     "name": "stderr",
     "output_type": "stream",
     "text": [
      "e:\\ineuron_FSDS\\BMI_prediction\\venv\\lib\\site-packages\\sklearn\\model_selection\\_validation.py:778: UserWarning: Scoring failed. The score on this train-test partition for these parameters will be set to nan. Details: \n",
      "Traceback (most recent call last):\n",
      "  File \"e:\\ineuron_FSDS\\BMI_prediction\\venv\\lib\\site-packages\\sklearn\\model_selection\\_validation.py\", line 767, in _score\n",
      "    scores = scorer(estimator, X_test, y_test)\n",
      "  File \"e:\\ineuron_FSDS\\BMI_prediction\\venv\\lib\\site-packages\\sklearn\\metrics\\_scorer.py\", line 234, in __call__\n",
      "    return self._score(\n",
      "  File \"e:\\ineuron_FSDS\\BMI_prediction\\venv\\lib\\site-packages\\sklearn\\metrics\\_scorer.py\", line 282, in _score\n",
      "    return self._sign * self._score_func(y_true, y_pred, **self._kwargs)\n",
      "  File \"e:\\ineuron_FSDS\\BMI_prediction\\venv\\lib\\site-packages\\sklearn\\utils\\_param_validation.py\", line 192, in wrapper\n",
      "    return func(*args, **kwargs)\n",
      "  File \"e:\\ineuron_FSDS\\BMI_prediction\\venv\\lib\\site-packages\\sklearn\\metrics\\_classification.py\", line 221, in accuracy_score\n",
      "    y_type, y_true, y_pred = _check_targets(y_true, y_pred)\n",
      "  File \"e:\\ineuron_FSDS\\BMI_prediction\\venv\\lib\\site-packages\\sklearn\\metrics\\_classification.py\", line 106, in _check_targets\n",
      "    raise ValueError(\"{0} is not supported\".format(y_type))\n",
      "ValueError: continuous is not supported\n",
      "\n",
      "  warnings.warn(\n"
     ]
    },
    {
     "name": "stdout",
     "output_type": "stream",
     "text": [
      "[CV 2/5] END criterion=poisson, max_depth=5, n_estimators=50;, score=nan total time=   0.4s\n"
     ]
    },
    {
     "name": "stderr",
     "output_type": "stream",
     "text": [
      "e:\\ineuron_FSDS\\BMI_prediction\\venv\\lib\\site-packages\\sklearn\\model_selection\\_validation.py:778: UserWarning: Scoring failed. The score on this train-test partition for these parameters will be set to nan. Details: \n",
      "Traceback (most recent call last):\n",
      "  File \"e:\\ineuron_FSDS\\BMI_prediction\\venv\\lib\\site-packages\\sklearn\\model_selection\\_validation.py\", line 767, in _score\n",
      "    scores = scorer(estimator, X_test, y_test)\n",
      "  File \"e:\\ineuron_FSDS\\BMI_prediction\\venv\\lib\\site-packages\\sklearn\\metrics\\_scorer.py\", line 234, in __call__\n",
      "    return self._score(\n",
      "  File \"e:\\ineuron_FSDS\\BMI_prediction\\venv\\lib\\site-packages\\sklearn\\metrics\\_scorer.py\", line 282, in _score\n",
      "    return self._sign * self._score_func(y_true, y_pred, **self._kwargs)\n",
      "  File \"e:\\ineuron_FSDS\\BMI_prediction\\venv\\lib\\site-packages\\sklearn\\utils\\_param_validation.py\", line 192, in wrapper\n",
      "    return func(*args, **kwargs)\n",
      "  File \"e:\\ineuron_FSDS\\BMI_prediction\\venv\\lib\\site-packages\\sklearn\\metrics\\_classification.py\", line 221, in accuracy_score\n",
      "    y_type, y_true, y_pred = _check_targets(y_true, y_pred)\n",
      "  File \"e:\\ineuron_FSDS\\BMI_prediction\\venv\\lib\\site-packages\\sklearn\\metrics\\_classification.py\", line 106, in _check_targets\n",
      "    raise ValueError(\"{0} is not supported\".format(y_type))\n",
      "ValueError: continuous is not supported\n",
      "\n",
      "  warnings.warn(\n"
     ]
    },
    {
     "name": "stdout",
     "output_type": "stream",
     "text": [
      "[CV 3/5] END criterion=poisson, max_depth=5, n_estimators=50;, score=nan total time=   0.4s\n"
     ]
    },
    {
     "name": "stderr",
     "output_type": "stream",
     "text": [
      "e:\\ineuron_FSDS\\BMI_prediction\\venv\\lib\\site-packages\\sklearn\\model_selection\\_validation.py:778: UserWarning: Scoring failed. The score on this train-test partition for these parameters will be set to nan. Details: \n",
      "Traceback (most recent call last):\n",
      "  File \"e:\\ineuron_FSDS\\BMI_prediction\\venv\\lib\\site-packages\\sklearn\\model_selection\\_validation.py\", line 767, in _score\n",
      "    scores = scorer(estimator, X_test, y_test)\n",
      "  File \"e:\\ineuron_FSDS\\BMI_prediction\\venv\\lib\\site-packages\\sklearn\\metrics\\_scorer.py\", line 234, in __call__\n",
      "    return self._score(\n",
      "  File \"e:\\ineuron_FSDS\\BMI_prediction\\venv\\lib\\site-packages\\sklearn\\metrics\\_scorer.py\", line 282, in _score\n",
      "    return self._sign * self._score_func(y_true, y_pred, **self._kwargs)\n",
      "  File \"e:\\ineuron_FSDS\\BMI_prediction\\venv\\lib\\site-packages\\sklearn\\utils\\_param_validation.py\", line 192, in wrapper\n",
      "    return func(*args, **kwargs)\n",
      "  File \"e:\\ineuron_FSDS\\BMI_prediction\\venv\\lib\\site-packages\\sklearn\\metrics\\_classification.py\", line 221, in accuracy_score\n",
      "    y_type, y_true, y_pred = _check_targets(y_true, y_pred)\n",
      "  File \"e:\\ineuron_FSDS\\BMI_prediction\\venv\\lib\\site-packages\\sklearn\\metrics\\_classification.py\", line 106, in _check_targets\n",
      "    raise ValueError(\"{0} is not supported\".format(y_type))\n",
      "ValueError: continuous is not supported\n",
      "\n",
      "  warnings.warn(\n"
     ]
    },
    {
     "name": "stdout",
     "output_type": "stream",
     "text": [
      "[CV 4/5] END criterion=poisson, max_depth=5, n_estimators=50;, score=nan total time=   0.3s\n"
     ]
    },
    {
     "name": "stderr",
     "output_type": "stream",
     "text": [
      "e:\\ineuron_FSDS\\BMI_prediction\\venv\\lib\\site-packages\\sklearn\\model_selection\\_validation.py:778: UserWarning: Scoring failed. The score on this train-test partition for these parameters will be set to nan. Details: \n",
      "Traceback (most recent call last):\n",
      "  File \"e:\\ineuron_FSDS\\BMI_prediction\\venv\\lib\\site-packages\\sklearn\\model_selection\\_validation.py\", line 767, in _score\n",
      "    scores = scorer(estimator, X_test, y_test)\n",
      "  File \"e:\\ineuron_FSDS\\BMI_prediction\\venv\\lib\\site-packages\\sklearn\\metrics\\_scorer.py\", line 234, in __call__\n",
      "    return self._score(\n",
      "  File \"e:\\ineuron_FSDS\\BMI_prediction\\venv\\lib\\site-packages\\sklearn\\metrics\\_scorer.py\", line 282, in _score\n",
      "    return self._sign * self._score_func(y_true, y_pred, **self._kwargs)\n",
      "  File \"e:\\ineuron_FSDS\\BMI_prediction\\venv\\lib\\site-packages\\sklearn\\utils\\_param_validation.py\", line 192, in wrapper\n",
      "    return func(*args, **kwargs)\n",
      "  File \"e:\\ineuron_FSDS\\BMI_prediction\\venv\\lib\\site-packages\\sklearn\\metrics\\_classification.py\", line 221, in accuracy_score\n",
      "    y_type, y_true, y_pred = _check_targets(y_true, y_pred)\n",
      "  File \"e:\\ineuron_FSDS\\BMI_prediction\\venv\\lib\\site-packages\\sklearn\\metrics\\_classification.py\", line 106, in _check_targets\n",
      "    raise ValueError(\"{0} is not supported\".format(y_type))\n",
      "ValueError: continuous is not supported\n",
      "\n",
      "  warnings.warn(\n"
     ]
    },
    {
     "name": "stdout",
     "output_type": "stream",
     "text": [
      "[CV 5/5] END criterion=poisson, max_depth=5, n_estimators=50;, score=nan total time=   0.4s\n"
     ]
    },
    {
     "name": "stderr",
     "output_type": "stream",
     "text": [
      "e:\\ineuron_FSDS\\BMI_prediction\\venv\\lib\\site-packages\\sklearn\\model_selection\\_validation.py:778: UserWarning: Scoring failed. The score on this train-test partition for these parameters will be set to nan. Details: \n",
      "Traceback (most recent call last):\n",
      "  File \"e:\\ineuron_FSDS\\BMI_prediction\\venv\\lib\\site-packages\\sklearn\\model_selection\\_validation.py\", line 767, in _score\n",
      "    scores = scorer(estimator, X_test, y_test)\n",
      "  File \"e:\\ineuron_FSDS\\BMI_prediction\\venv\\lib\\site-packages\\sklearn\\metrics\\_scorer.py\", line 234, in __call__\n",
      "    return self._score(\n",
      "  File \"e:\\ineuron_FSDS\\BMI_prediction\\venv\\lib\\site-packages\\sklearn\\metrics\\_scorer.py\", line 282, in _score\n",
      "    return self._sign * self._score_func(y_true, y_pred, **self._kwargs)\n",
      "  File \"e:\\ineuron_FSDS\\BMI_prediction\\venv\\lib\\site-packages\\sklearn\\utils\\_param_validation.py\", line 192, in wrapper\n",
      "    return func(*args, **kwargs)\n",
      "  File \"e:\\ineuron_FSDS\\BMI_prediction\\venv\\lib\\site-packages\\sklearn\\metrics\\_classification.py\", line 221, in accuracy_score\n",
      "    y_type, y_true, y_pred = _check_targets(y_true, y_pred)\n",
      "  File \"e:\\ineuron_FSDS\\BMI_prediction\\venv\\lib\\site-packages\\sklearn\\metrics\\_classification.py\", line 106, in _check_targets\n",
      "    raise ValueError(\"{0} is not supported\".format(y_type))\n",
      "ValueError: continuous is not supported\n",
      "\n",
      "  warnings.warn(\n"
     ]
    },
    {
     "name": "stdout",
     "output_type": "stream",
     "text": [
      "[CV 1/5] END criterion=poisson, max_depth=3, n_estimators=200;, score=nan total time=   1.2s\n"
     ]
    },
    {
     "name": "stderr",
     "output_type": "stream",
     "text": [
      "e:\\ineuron_FSDS\\BMI_prediction\\venv\\lib\\site-packages\\sklearn\\model_selection\\_validation.py:778: UserWarning: Scoring failed. The score on this train-test partition for these parameters will be set to nan. Details: \n",
      "Traceback (most recent call last):\n",
      "  File \"e:\\ineuron_FSDS\\BMI_prediction\\venv\\lib\\site-packages\\sklearn\\model_selection\\_validation.py\", line 767, in _score\n",
      "    scores = scorer(estimator, X_test, y_test)\n",
      "  File \"e:\\ineuron_FSDS\\BMI_prediction\\venv\\lib\\site-packages\\sklearn\\metrics\\_scorer.py\", line 234, in __call__\n",
      "    return self._score(\n",
      "  File \"e:\\ineuron_FSDS\\BMI_prediction\\venv\\lib\\site-packages\\sklearn\\metrics\\_scorer.py\", line 282, in _score\n",
      "    return self._sign * self._score_func(y_true, y_pred, **self._kwargs)\n",
      "  File \"e:\\ineuron_FSDS\\BMI_prediction\\venv\\lib\\site-packages\\sklearn\\utils\\_param_validation.py\", line 192, in wrapper\n",
      "    return func(*args, **kwargs)\n",
      "  File \"e:\\ineuron_FSDS\\BMI_prediction\\venv\\lib\\site-packages\\sklearn\\metrics\\_classification.py\", line 221, in accuracy_score\n",
      "    y_type, y_true, y_pred = _check_targets(y_true, y_pred)\n",
      "  File \"e:\\ineuron_FSDS\\BMI_prediction\\venv\\lib\\site-packages\\sklearn\\metrics\\_classification.py\", line 106, in _check_targets\n",
      "    raise ValueError(\"{0} is not supported\".format(y_type))\n",
      "ValueError: continuous is not supported\n",
      "\n",
      "  warnings.warn(\n"
     ]
    },
    {
     "name": "stdout",
     "output_type": "stream",
     "text": [
      "[CV 2/5] END criterion=poisson, max_depth=3, n_estimators=200;, score=nan total time=   1.4s\n"
     ]
    },
    {
     "name": "stderr",
     "output_type": "stream",
     "text": [
      "e:\\ineuron_FSDS\\BMI_prediction\\venv\\lib\\site-packages\\sklearn\\model_selection\\_validation.py:778: UserWarning: Scoring failed. The score on this train-test partition for these parameters will be set to nan. Details: \n",
      "Traceback (most recent call last):\n",
      "  File \"e:\\ineuron_FSDS\\BMI_prediction\\venv\\lib\\site-packages\\sklearn\\model_selection\\_validation.py\", line 767, in _score\n",
      "    scores = scorer(estimator, X_test, y_test)\n",
      "  File \"e:\\ineuron_FSDS\\BMI_prediction\\venv\\lib\\site-packages\\sklearn\\metrics\\_scorer.py\", line 234, in __call__\n",
      "    return self._score(\n",
      "  File \"e:\\ineuron_FSDS\\BMI_prediction\\venv\\lib\\site-packages\\sklearn\\metrics\\_scorer.py\", line 282, in _score\n",
      "    return self._sign * self._score_func(y_true, y_pred, **self._kwargs)\n",
      "  File \"e:\\ineuron_FSDS\\BMI_prediction\\venv\\lib\\site-packages\\sklearn\\utils\\_param_validation.py\", line 192, in wrapper\n",
      "    return func(*args, **kwargs)\n",
      "  File \"e:\\ineuron_FSDS\\BMI_prediction\\venv\\lib\\site-packages\\sklearn\\metrics\\_classification.py\", line 221, in accuracy_score\n",
      "    y_type, y_true, y_pred = _check_targets(y_true, y_pred)\n",
      "  File \"e:\\ineuron_FSDS\\BMI_prediction\\venv\\lib\\site-packages\\sklearn\\metrics\\_classification.py\", line 106, in _check_targets\n",
      "    raise ValueError(\"{0} is not supported\".format(y_type))\n",
      "ValueError: continuous is not supported\n",
      "\n",
      "  warnings.warn(\n"
     ]
    },
    {
     "name": "stdout",
     "output_type": "stream",
     "text": [
      "[CV 3/5] END criterion=poisson, max_depth=3, n_estimators=200;, score=nan total time=   1.3s\n"
     ]
    },
    {
     "name": "stderr",
     "output_type": "stream",
     "text": [
      "e:\\ineuron_FSDS\\BMI_prediction\\venv\\lib\\site-packages\\sklearn\\model_selection\\_validation.py:778: UserWarning: Scoring failed. The score on this train-test partition for these parameters will be set to nan. Details: \n",
      "Traceback (most recent call last):\n",
      "  File \"e:\\ineuron_FSDS\\BMI_prediction\\venv\\lib\\site-packages\\sklearn\\model_selection\\_validation.py\", line 767, in _score\n",
      "    scores = scorer(estimator, X_test, y_test)\n",
      "  File \"e:\\ineuron_FSDS\\BMI_prediction\\venv\\lib\\site-packages\\sklearn\\metrics\\_scorer.py\", line 234, in __call__\n",
      "    return self._score(\n",
      "  File \"e:\\ineuron_FSDS\\BMI_prediction\\venv\\lib\\site-packages\\sklearn\\metrics\\_scorer.py\", line 282, in _score\n",
      "    return self._sign * self._score_func(y_true, y_pred, **self._kwargs)\n",
      "  File \"e:\\ineuron_FSDS\\BMI_prediction\\venv\\lib\\site-packages\\sklearn\\utils\\_param_validation.py\", line 192, in wrapper\n",
      "    return func(*args, **kwargs)\n",
      "  File \"e:\\ineuron_FSDS\\BMI_prediction\\venv\\lib\\site-packages\\sklearn\\metrics\\_classification.py\", line 221, in accuracy_score\n",
      "    y_type, y_true, y_pred = _check_targets(y_true, y_pred)\n",
      "  File \"e:\\ineuron_FSDS\\BMI_prediction\\venv\\lib\\site-packages\\sklearn\\metrics\\_classification.py\", line 106, in _check_targets\n",
      "    raise ValueError(\"{0} is not supported\".format(y_type))\n",
      "ValueError: continuous is not supported\n",
      "\n",
      "  warnings.warn(\n"
     ]
    },
    {
     "name": "stdout",
     "output_type": "stream",
     "text": [
      "[CV 4/5] END criterion=poisson, max_depth=3, n_estimators=200;, score=nan total time=   1.1s\n"
     ]
    },
    {
     "name": "stderr",
     "output_type": "stream",
     "text": [
      "e:\\ineuron_FSDS\\BMI_prediction\\venv\\lib\\site-packages\\sklearn\\model_selection\\_validation.py:778: UserWarning: Scoring failed. The score on this train-test partition for these parameters will be set to nan. Details: \n",
      "Traceback (most recent call last):\n",
      "  File \"e:\\ineuron_FSDS\\BMI_prediction\\venv\\lib\\site-packages\\sklearn\\model_selection\\_validation.py\", line 767, in _score\n",
      "    scores = scorer(estimator, X_test, y_test)\n",
      "  File \"e:\\ineuron_FSDS\\BMI_prediction\\venv\\lib\\site-packages\\sklearn\\metrics\\_scorer.py\", line 234, in __call__\n",
      "    return self._score(\n",
      "  File \"e:\\ineuron_FSDS\\BMI_prediction\\venv\\lib\\site-packages\\sklearn\\metrics\\_scorer.py\", line 282, in _score\n",
      "    return self._sign * self._score_func(y_true, y_pred, **self._kwargs)\n",
      "  File \"e:\\ineuron_FSDS\\BMI_prediction\\venv\\lib\\site-packages\\sklearn\\utils\\_param_validation.py\", line 192, in wrapper\n",
      "    return func(*args, **kwargs)\n",
      "  File \"e:\\ineuron_FSDS\\BMI_prediction\\venv\\lib\\site-packages\\sklearn\\metrics\\_classification.py\", line 221, in accuracy_score\n",
      "    y_type, y_true, y_pred = _check_targets(y_true, y_pred)\n",
      "  File \"e:\\ineuron_FSDS\\BMI_prediction\\venv\\lib\\site-packages\\sklearn\\metrics\\_classification.py\", line 106, in _check_targets\n",
      "    raise ValueError(\"{0} is not supported\".format(y_type))\n",
      "ValueError: continuous is not supported\n",
      "\n",
      "  warnings.warn(\n"
     ]
    },
    {
     "name": "stdout",
     "output_type": "stream",
     "text": [
      "[CV 5/5] END criterion=poisson, max_depth=3, n_estimators=200;, score=nan total time=   1.4s\n"
     ]
    },
    {
     "name": "stderr",
     "output_type": "stream",
     "text": [
      "e:\\ineuron_FSDS\\BMI_prediction\\venv\\lib\\site-packages\\sklearn\\model_selection\\_validation.py:778: UserWarning: Scoring failed. The score on this train-test partition for these parameters will be set to nan. Details: \n",
      "Traceback (most recent call last):\n",
      "  File \"e:\\ineuron_FSDS\\BMI_prediction\\venv\\lib\\site-packages\\sklearn\\model_selection\\_validation.py\", line 767, in _score\n",
      "    scores = scorer(estimator, X_test, y_test)\n",
      "  File \"e:\\ineuron_FSDS\\BMI_prediction\\venv\\lib\\site-packages\\sklearn\\metrics\\_scorer.py\", line 234, in __call__\n",
      "    return self._score(\n",
      "  File \"e:\\ineuron_FSDS\\BMI_prediction\\venv\\lib\\site-packages\\sklearn\\metrics\\_scorer.py\", line 282, in _score\n",
      "    return self._sign * self._score_func(y_true, y_pred, **self._kwargs)\n",
      "  File \"e:\\ineuron_FSDS\\BMI_prediction\\venv\\lib\\site-packages\\sklearn\\utils\\_param_validation.py\", line 192, in wrapper\n",
      "    return func(*args, **kwargs)\n",
      "  File \"e:\\ineuron_FSDS\\BMI_prediction\\venv\\lib\\site-packages\\sklearn\\metrics\\_classification.py\", line 221, in accuracy_score\n",
      "    y_type, y_true, y_pred = _check_targets(y_true, y_pred)\n",
      "  File \"e:\\ineuron_FSDS\\BMI_prediction\\venv\\lib\\site-packages\\sklearn\\metrics\\_classification.py\", line 106, in _check_targets\n",
      "    raise ValueError(\"{0} is not supported\".format(y_type))\n",
      "ValueError: continuous is not supported\n",
      "\n",
      "  warnings.warn(\n"
     ]
    },
    {
     "name": "stdout",
     "output_type": "stream",
     "text": [
      "[CV 1/5] END criterion=poisson, max_depth=10, n_estimators=50;, score=nan total time=   0.5s\n"
     ]
    },
    {
     "name": "stderr",
     "output_type": "stream",
     "text": [
      "e:\\ineuron_FSDS\\BMI_prediction\\venv\\lib\\site-packages\\sklearn\\model_selection\\_validation.py:778: UserWarning: Scoring failed. The score on this train-test partition for these parameters will be set to nan. Details: \n",
      "Traceback (most recent call last):\n",
      "  File \"e:\\ineuron_FSDS\\BMI_prediction\\venv\\lib\\site-packages\\sklearn\\model_selection\\_validation.py\", line 767, in _score\n",
      "    scores = scorer(estimator, X_test, y_test)\n",
      "  File \"e:\\ineuron_FSDS\\BMI_prediction\\venv\\lib\\site-packages\\sklearn\\metrics\\_scorer.py\", line 234, in __call__\n",
      "    return self._score(\n",
      "  File \"e:\\ineuron_FSDS\\BMI_prediction\\venv\\lib\\site-packages\\sklearn\\metrics\\_scorer.py\", line 282, in _score\n",
      "    return self._sign * self._score_func(y_true, y_pred, **self._kwargs)\n",
      "  File \"e:\\ineuron_FSDS\\BMI_prediction\\venv\\lib\\site-packages\\sklearn\\utils\\_param_validation.py\", line 192, in wrapper\n",
      "    return func(*args, **kwargs)\n",
      "  File \"e:\\ineuron_FSDS\\BMI_prediction\\venv\\lib\\site-packages\\sklearn\\metrics\\_classification.py\", line 221, in accuracy_score\n",
      "    y_type, y_true, y_pred = _check_targets(y_true, y_pred)\n",
      "  File \"e:\\ineuron_FSDS\\BMI_prediction\\venv\\lib\\site-packages\\sklearn\\metrics\\_classification.py\", line 106, in _check_targets\n",
      "    raise ValueError(\"{0} is not supported\".format(y_type))\n",
      "ValueError: continuous is not supported\n",
      "\n",
      "  warnings.warn(\n"
     ]
    },
    {
     "name": "stdout",
     "output_type": "stream",
     "text": [
      "[CV 2/5] END criterion=poisson, max_depth=10, n_estimators=50;, score=nan total time=   0.5s\n"
     ]
    },
    {
     "name": "stderr",
     "output_type": "stream",
     "text": [
      "e:\\ineuron_FSDS\\BMI_prediction\\venv\\lib\\site-packages\\sklearn\\model_selection\\_validation.py:778: UserWarning: Scoring failed. The score on this train-test partition for these parameters will be set to nan. Details: \n",
      "Traceback (most recent call last):\n",
      "  File \"e:\\ineuron_FSDS\\BMI_prediction\\venv\\lib\\site-packages\\sklearn\\model_selection\\_validation.py\", line 767, in _score\n",
      "    scores = scorer(estimator, X_test, y_test)\n",
      "  File \"e:\\ineuron_FSDS\\BMI_prediction\\venv\\lib\\site-packages\\sklearn\\metrics\\_scorer.py\", line 234, in __call__\n",
      "    return self._score(\n",
      "  File \"e:\\ineuron_FSDS\\BMI_prediction\\venv\\lib\\site-packages\\sklearn\\metrics\\_scorer.py\", line 282, in _score\n",
      "    return self._sign * self._score_func(y_true, y_pred, **self._kwargs)\n",
      "  File \"e:\\ineuron_FSDS\\BMI_prediction\\venv\\lib\\site-packages\\sklearn\\utils\\_param_validation.py\", line 192, in wrapper\n",
      "    return func(*args, **kwargs)\n",
      "  File \"e:\\ineuron_FSDS\\BMI_prediction\\venv\\lib\\site-packages\\sklearn\\metrics\\_classification.py\", line 221, in accuracy_score\n",
      "    y_type, y_true, y_pred = _check_targets(y_true, y_pred)\n",
      "  File \"e:\\ineuron_FSDS\\BMI_prediction\\venv\\lib\\site-packages\\sklearn\\metrics\\_classification.py\", line 106, in _check_targets\n",
      "    raise ValueError(\"{0} is not supported\".format(y_type))\n",
      "ValueError: continuous is not supported\n",
      "\n",
      "  warnings.warn(\n"
     ]
    },
    {
     "name": "stdout",
     "output_type": "stream",
     "text": [
      "[CV 3/5] END criterion=poisson, max_depth=10, n_estimators=50;, score=nan total time=   0.5s\n"
     ]
    },
    {
     "name": "stderr",
     "output_type": "stream",
     "text": [
      "e:\\ineuron_FSDS\\BMI_prediction\\venv\\lib\\site-packages\\sklearn\\model_selection\\_validation.py:778: UserWarning: Scoring failed. The score on this train-test partition for these parameters will be set to nan. Details: \n",
      "Traceback (most recent call last):\n",
      "  File \"e:\\ineuron_FSDS\\BMI_prediction\\venv\\lib\\site-packages\\sklearn\\model_selection\\_validation.py\", line 767, in _score\n",
      "    scores = scorer(estimator, X_test, y_test)\n",
      "  File \"e:\\ineuron_FSDS\\BMI_prediction\\venv\\lib\\site-packages\\sklearn\\metrics\\_scorer.py\", line 234, in __call__\n",
      "    return self._score(\n",
      "  File \"e:\\ineuron_FSDS\\BMI_prediction\\venv\\lib\\site-packages\\sklearn\\metrics\\_scorer.py\", line 282, in _score\n",
      "    return self._sign * self._score_func(y_true, y_pred, **self._kwargs)\n",
      "  File \"e:\\ineuron_FSDS\\BMI_prediction\\venv\\lib\\site-packages\\sklearn\\utils\\_param_validation.py\", line 192, in wrapper\n",
      "    return func(*args, **kwargs)\n",
      "  File \"e:\\ineuron_FSDS\\BMI_prediction\\venv\\lib\\site-packages\\sklearn\\metrics\\_classification.py\", line 221, in accuracy_score\n",
      "    y_type, y_true, y_pred = _check_targets(y_true, y_pred)\n",
      "  File \"e:\\ineuron_FSDS\\BMI_prediction\\venv\\lib\\site-packages\\sklearn\\metrics\\_classification.py\", line 106, in _check_targets\n",
      "    raise ValueError(\"{0} is not supported\".format(y_type))\n",
      "ValueError: continuous is not supported\n",
      "\n",
      "  warnings.warn(\n"
     ]
    },
    {
     "name": "stdout",
     "output_type": "stream",
     "text": [
      "[CV 4/5] END criterion=poisson, max_depth=10, n_estimators=50;, score=nan total time=   0.3s\n"
     ]
    },
    {
     "name": "stderr",
     "output_type": "stream",
     "text": [
      "e:\\ineuron_FSDS\\BMI_prediction\\venv\\lib\\site-packages\\sklearn\\model_selection\\_validation.py:778: UserWarning: Scoring failed. The score on this train-test partition for these parameters will be set to nan. Details: \n",
      "Traceback (most recent call last):\n",
      "  File \"e:\\ineuron_FSDS\\BMI_prediction\\venv\\lib\\site-packages\\sklearn\\model_selection\\_validation.py\", line 767, in _score\n",
      "    scores = scorer(estimator, X_test, y_test)\n",
      "  File \"e:\\ineuron_FSDS\\BMI_prediction\\venv\\lib\\site-packages\\sklearn\\metrics\\_scorer.py\", line 234, in __call__\n",
      "    return self._score(\n",
      "  File \"e:\\ineuron_FSDS\\BMI_prediction\\venv\\lib\\site-packages\\sklearn\\metrics\\_scorer.py\", line 282, in _score\n",
      "    return self._sign * self._score_func(y_true, y_pred, **self._kwargs)\n",
      "  File \"e:\\ineuron_FSDS\\BMI_prediction\\venv\\lib\\site-packages\\sklearn\\utils\\_param_validation.py\", line 192, in wrapper\n",
      "    return func(*args, **kwargs)\n",
      "  File \"e:\\ineuron_FSDS\\BMI_prediction\\venv\\lib\\site-packages\\sklearn\\metrics\\_classification.py\", line 221, in accuracy_score\n",
      "    y_type, y_true, y_pred = _check_targets(y_true, y_pred)\n",
      "  File \"e:\\ineuron_FSDS\\BMI_prediction\\venv\\lib\\site-packages\\sklearn\\metrics\\_classification.py\", line 106, in _check_targets\n",
      "    raise ValueError(\"{0} is not supported\".format(y_type))\n",
      "ValueError: continuous is not supported\n",
      "\n",
      "  warnings.warn(\n"
     ]
    },
    {
     "name": "stdout",
     "output_type": "stream",
     "text": [
      "[CV 5/5] END criterion=poisson, max_depth=10, n_estimators=50;, score=nan total time=   0.6s\n"
     ]
    },
    {
     "name": "stderr",
     "output_type": "stream",
     "text": [
      "e:\\ineuron_FSDS\\BMI_prediction\\venv\\lib\\site-packages\\sklearn\\model_selection\\_validation.py:778: UserWarning: Scoring failed. The score on this train-test partition for these parameters will be set to nan. Details: \n",
      "Traceback (most recent call last):\n",
      "  File \"e:\\ineuron_FSDS\\BMI_prediction\\venv\\lib\\site-packages\\sklearn\\model_selection\\_validation.py\", line 767, in _score\n",
      "    scores = scorer(estimator, X_test, y_test)\n",
      "  File \"e:\\ineuron_FSDS\\BMI_prediction\\venv\\lib\\site-packages\\sklearn\\metrics\\_scorer.py\", line 234, in __call__\n",
      "    return self._score(\n",
      "  File \"e:\\ineuron_FSDS\\BMI_prediction\\venv\\lib\\site-packages\\sklearn\\metrics\\_scorer.py\", line 282, in _score\n",
      "    return self._sign * self._score_func(y_true, y_pred, **self._kwargs)\n",
      "  File \"e:\\ineuron_FSDS\\BMI_prediction\\venv\\lib\\site-packages\\sklearn\\utils\\_param_validation.py\", line 192, in wrapper\n",
      "    return func(*args, **kwargs)\n",
      "  File \"e:\\ineuron_FSDS\\BMI_prediction\\venv\\lib\\site-packages\\sklearn\\metrics\\_classification.py\", line 221, in accuracy_score\n",
      "    y_type, y_true, y_pred = _check_targets(y_true, y_pred)\n",
      "  File \"e:\\ineuron_FSDS\\BMI_prediction\\venv\\lib\\site-packages\\sklearn\\metrics\\_classification.py\", line 106, in _check_targets\n",
      "    raise ValueError(\"{0} is not supported\".format(y_type))\n",
      "ValueError: continuous is not supported\n",
      "\n",
      "  warnings.warn(\n"
     ]
    },
    {
     "name": "stdout",
     "output_type": "stream",
     "text": [
      "[CV 1/5] END criterion=squared_error, max_depth=10, n_estimators=100;, score=nan total time=   1.2s\n"
     ]
    },
    {
     "name": "stderr",
     "output_type": "stream",
     "text": [
      "e:\\ineuron_FSDS\\BMI_prediction\\venv\\lib\\site-packages\\sklearn\\model_selection\\_validation.py:778: UserWarning: Scoring failed. The score on this train-test partition for these parameters will be set to nan. Details: \n",
      "Traceback (most recent call last):\n",
      "  File \"e:\\ineuron_FSDS\\BMI_prediction\\venv\\lib\\site-packages\\sklearn\\model_selection\\_validation.py\", line 767, in _score\n",
      "    scores = scorer(estimator, X_test, y_test)\n",
      "  File \"e:\\ineuron_FSDS\\BMI_prediction\\venv\\lib\\site-packages\\sklearn\\metrics\\_scorer.py\", line 234, in __call__\n",
      "    return self._score(\n",
      "  File \"e:\\ineuron_FSDS\\BMI_prediction\\venv\\lib\\site-packages\\sklearn\\metrics\\_scorer.py\", line 282, in _score\n",
      "    return self._sign * self._score_func(y_true, y_pred, **self._kwargs)\n",
      "  File \"e:\\ineuron_FSDS\\BMI_prediction\\venv\\lib\\site-packages\\sklearn\\utils\\_param_validation.py\", line 192, in wrapper\n",
      "    return func(*args, **kwargs)\n",
      "  File \"e:\\ineuron_FSDS\\BMI_prediction\\venv\\lib\\site-packages\\sklearn\\metrics\\_classification.py\", line 221, in accuracy_score\n",
      "    y_type, y_true, y_pred = _check_targets(y_true, y_pred)\n",
      "  File \"e:\\ineuron_FSDS\\BMI_prediction\\venv\\lib\\site-packages\\sklearn\\metrics\\_classification.py\", line 106, in _check_targets\n",
      "    raise ValueError(\"{0} is not supported\".format(y_type))\n",
      "ValueError: continuous is not supported\n",
      "\n",
      "  warnings.warn(\n"
     ]
    },
    {
     "name": "stdout",
     "output_type": "stream",
     "text": [
      "[CV 2/5] END criterion=squared_error, max_depth=10, n_estimators=100;, score=nan total time=   1.2s\n"
     ]
    },
    {
     "name": "stderr",
     "output_type": "stream",
     "text": [
      "e:\\ineuron_FSDS\\BMI_prediction\\venv\\lib\\site-packages\\sklearn\\model_selection\\_validation.py:778: UserWarning: Scoring failed. The score on this train-test partition for these parameters will be set to nan. Details: \n",
      "Traceback (most recent call last):\n",
      "  File \"e:\\ineuron_FSDS\\BMI_prediction\\venv\\lib\\site-packages\\sklearn\\model_selection\\_validation.py\", line 767, in _score\n",
      "    scores = scorer(estimator, X_test, y_test)\n",
      "  File \"e:\\ineuron_FSDS\\BMI_prediction\\venv\\lib\\site-packages\\sklearn\\metrics\\_scorer.py\", line 234, in __call__\n",
      "    return self._score(\n",
      "  File \"e:\\ineuron_FSDS\\BMI_prediction\\venv\\lib\\site-packages\\sklearn\\metrics\\_scorer.py\", line 282, in _score\n",
      "    return self._sign * self._score_func(y_true, y_pred, **self._kwargs)\n",
      "  File \"e:\\ineuron_FSDS\\BMI_prediction\\venv\\lib\\site-packages\\sklearn\\utils\\_param_validation.py\", line 192, in wrapper\n",
      "    return func(*args, **kwargs)\n",
      "  File \"e:\\ineuron_FSDS\\BMI_prediction\\venv\\lib\\site-packages\\sklearn\\metrics\\_classification.py\", line 221, in accuracy_score\n",
      "    y_type, y_true, y_pred = _check_targets(y_true, y_pred)\n",
      "  File \"e:\\ineuron_FSDS\\BMI_prediction\\venv\\lib\\site-packages\\sklearn\\metrics\\_classification.py\", line 106, in _check_targets\n",
      "    raise ValueError(\"{0} is not supported\".format(y_type))\n",
      "ValueError: continuous is not supported\n",
      "\n",
      "  warnings.warn(\n"
     ]
    },
    {
     "name": "stdout",
     "output_type": "stream",
     "text": [
      "[CV 3/5] END criterion=squared_error, max_depth=10, n_estimators=100;, score=nan total time=   1.2s\n"
     ]
    },
    {
     "name": "stderr",
     "output_type": "stream",
     "text": [
      "e:\\ineuron_FSDS\\BMI_prediction\\venv\\lib\\site-packages\\sklearn\\model_selection\\_validation.py:778: UserWarning: Scoring failed. The score on this train-test partition for these parameters will be set to nan. Details: \n",
      "Traceback (most recent call last):\n",
      "  File \"e:\\ineuron_FSDS\\BMI_prediction\\venv\\lib\\site-packages\\sklearn\\model_selection\\_validation.py\", line 767, in _score\n",
      "    scores = scorer(estimator, X_test, y_test)\n",
      "  File \"e:\\ineuron_FSDS\\BMI_prediction\\venv\\lib\\site-packages\\sklearn\\metrics\\_scorer.py\", line 234, in __call__\n",
      "    return self._score(\n",
      "  File \"e:\\ineuron_FSDS\\BMI_prediction\\venv\\lib\\site-packages\\sklearn\\metrics\\_scorer.py\", line 282, in _score\n",
      "    return self._sign * self._score_func(y_true, y_pred, **self._kwargs)\n",
      "  File \"e:\\ineuron_FSDS\\BMI_prediction\\venv\\lib\\site-packages\\sklearn\\utils\\_param_validation.py\", line 192, in wrapper\n",
      "    return func(*args, **kwargs)\n",
      "  File \"e:\\ineuron_FSDS\\BMI_prediction\\venv\\lib\\site-packages\\sklearn\\metrics\\_classification.py\", line 221, in accuracy_score\n",
      "    y_type, y_true, y_pred = _check_targets(y_true, y_pred)\n",
      "  File \"e:\\ineuron_FSDS\\BMI_prediction\\venv\\lib\\site-packages\\sklearn\\metrics\\_classification.py\", line 106, in _check_targets\n",
      "    raise ValueError(\"{0} is not supported\".format(y_type))\n",
      "ValueError: continuous is not supported\n",
      "\n",
      "  warnings.warn(\n"
     ]
    },
    {
     "name": "stdout",
     "output_type": "stream",
     "text": [
      "[CV 4/5] END criterion=squared_error, max_depth=10, n_estimators=100;, score=nan total time=   1.1s\n"
     ]
    },
    {
     "name": "stderr",
     "output_type": "stream",
     "text": [
      "e:\\ineuron_FSDS\\BMI_prediction\\venv\\lib\\site-packages\\sklearn\\model_selection\\_validation.py:778: UserWarning: Scoring failed. The score on this train-test partition for these parameters will be set to nan. Details: \n",
      "Traceback (most recent call last):\n",
      "  File \"e:\\ineuron_FSDS\\BMI_prediction\\venv\\lib\\site-packages\\sklearn\\model_selection\\_validation.py\", line 767, in _score\n",
      "    scores = scorer(estimator, X_test, y_test)\n",
      "  File \"e:\\ineuron_FSDS\\BMI_prediction\\venv\\lib\\site-packages\\sklearn\\metrics\\_scorer.py\", line 234, in __call__\n",
      "    return self._score(\n",
      "  File \"e:\\ineuron_FSDS\\BMI_prediction\\venv\\lib\\site-packages\\sklearn\\metrics\\_scorer.py\", line 282, in _score\n",
      "    return self._sign * self._score_func(y_true, y_pred, **self._kwargs)\n",
      "  File \"e:\\ineuron_FSDS\\BMI_prediction\\venv\\lib\\site-packages\\sklearn\\utils\\_param_validation.py\", line 192, in wrapper\n",
      "    return func(*args, **kwargs)\n",
      "  File \"e:\\ineuron_FSDS\\BMI_prediction\\venv\\lib\\site-packages\\sklearn\\metrics\\_classification.py\", line 221, in accuracy_score\n",
      "    y_type, y_true, y_pred = _check_targets(y_true, y_pred)\n",
      "  File \"e:\\ineuron_FSDS\\BMI_prediction\\venv\\lib\\site-packages\\sklearn\\metrics\\_classification.py\", line 106, in _check_targets\n",
      "    raise ValueError(\"{0} is not supported\".format(y_type))\n",
      "ValueError: continuous is not supported\n",
      "\n",
      "  warnings.warn(\n"
     ]
    },
    {
     "name": "stdout",
     "output_type": "stream",
     "text": [
      "[CV 5/5] END criterion=squared_error, max_depth=10, n_estimators=100;, score=nan total time=   1.1s\n"
     ]
    },
    {
     "name": "stderr",
     "output_type": "stream",
     "text": [
      "e:\\ineuron_FSDS\\BMI_prediction\\venv\\lib\\site-packages\\sklearn\\model_selection\\_validation.py:778: UserWarning: Scoring failed. The score on this train-test partition for these parameters will be set to nan. Details: \n",
      "Traceback (most recent call last):\n",
      "  File \"e:\\ineuron_FSDS\\BMI_prediction\\venv\\lib\\site-packages\\sklearn\\model_selection\\_validation.py\", line 767, in _score\n",
      "    scores = scorer(estimator, X_test, y_test)\n",
      "  File \"e:\\ineuron_FSDS\\BMI_prediction\\venv\\lib\\site-packages\\sklearn\\metrics\\_scorer.py\", line 234, in __call__\n",
      "    return self._score(\n",
      "  File \"e:\\ineuron_FSDS\\BMI_prediction\\venv\\lib\\site-packages\\sklearn\\metrics\\_scorer.py\", line 282, in _score\n",
      "    return self._sign * self._score_func(y_true, y_pred, **self._kwargs)\n",
      "  File \"e:\\ineuron_FSDS\\BMI_prediction\\venv\\lib\\site-packages\\sklearn\\utils\\_param_validation.py\", line 192, in wrapper\n",
      "    return func(*args, **kwargs)\n",
      "  File \"e:\\ineuron_FSDS\\BMI_prediction\\venv\\lib\\site-packages\\sklearn\\metrics\\_classification.py\", line 221, in accuracy_score\n",
      "    y_type, y_true, y_pred = _check_targets(y_true, y_pred)\n",
      "  File \"e:\\ineuron_FSDS\\BMI_prediction\\venv\\lib\\site-packages\\sklearn\\metrics\\_classification.py\", line 106, in _check_targets\n",
      "    raise ValueError(\"{0} is not supported\".format(y_type))\n",
      "ValueError: continuous is not supported\n",
      "\n",
      "  warnings.warn(\n"
     ]
    },
    {
     "name": "stdout",
     "output_type": "stream",
     "text": [
      "[CV 1/5] END criterion=squared_error, max_depth=3, n_estimators=200;, score=nan total time=   1.3s\n"
     ]
    },
    {
     "name": "stderr",
     "output_type": "stream",
     "text": [
      "e:\\ineuron_FSDS\\BMI_prediction\\venv\\lib\\site-packages\\sklearn\\model_selection\\_validation.py:778: UserWarning: Scoring failed. The score on this train-test partition for these parameters will be set to nan. Details: \n",
      "Traceback (most recent call last):\n",
      "  File \"e:\\ineuron_FSDS\\BMI_prediction\\venv\\lib\\site-packages\\sklearn\\model_selection\\_validation.py\", line 767, in _score\n",
      "    scores = scorer(estimator, X_test, y_test)\n",
      "  File \"e:\\ineuron_FSDS\\BMI_prediction\\venv\\lib\\site-packages\\sklearn\\metrics\\_scorer.py\", line 234, in __call__\n",
      "    return self._score(\n",
      "  File \"e:\\ineuron_FSDS\\BMI_prediction\\venv\\lib\\site-packages\\sklearn\\metrics\\_scorer.py\", line 282, in _score\n",
      "    return self._sign * self._score_func(y_true, y_pred, **self._kwargs)\n",
      "  File \"e:\\ineuron_FSDS\\BMI_prediction\\venv\\lib\\site-packages\\sklearn\\utils\\_param_validation.py\", line 192, in wrapper\n",
      "    return func(*args, **kwargs)\n",
      "  File \"e:\\ineuron_FSDS\\BMI_prediction\\venv\\lib\\site-packages\\sklearn\\metrics\\_classification.py\", line 221, in accuracy_score\n",
      "    y_type, y_true, y_pred = _check_targets(y_true, y_pred)\n",
      "  File \"e:\\ineuron_FSDS\\BMI_prediction\\venv\\lib\\site-packages\\sklearn\\metrics\\_classification.py\", line 106, in _check_targets\n",
      "    raise ValueError(\"{0} is not supported\".format(y_type))\n",
      "ValueError: continuous is not supported\n",
      "\n",
      "  warnings.warn(\n"
     ]
    },
    {
     "name": "stdout",
     "output_type": "stream",
     "text": [
      "[CV 2/5] END criterion=squared_error, max_depth=3, n_estimators=200;, score=nan total time=   1.3s\n"
     ]
    },
    {
     "name": "stderr",
     "output_type": "stream",
     "text": [
      "e:\\ineuron_FSDS\\BMI_prediction\\venv\\lib\\site-packages\\sklearn\\model_selection\\_validation.py:778: UserWarning: Scoring failed. The score on this train-test partition for these parameters will be set to nan. Details: \n",
      "Traceback (most recent call last):\n",
      "  File \"e:\\ineuron_FSDS\\BMI_prediction\\venv\\lib\\site-packages\\sklearn\\model_selection\\_validation.py\", line 767, in _score\n",
      "    scores = scorer(estimator, X_test, y_test)\n",
      "  File \"e:\\ineuron_FSDS\\BMI_prediction\\venv\\lib\\site-packages\\sklearn\\metrics\\_scorer.py\", line 234, in __call__\n",
      "    return self._score(\n",
      "  File \"e:\\ineuron_FSDS\\BMI_prediction\\venv\\lib\\site-packages\\sklearn\\metrics\\_scorer.py\", line 282, in _score\n",
      "    return self._sign * self._score_func(y_true, y_pred, **self._kwargs)\n",
      "  File \"e:\\ineuron_FSDS\\BMI_prediction\\venv\\lib\\site-packages\\sklearn\\utils\\_param_validation.py\", line 192, in wrapper\n",
      "    return func(*args, **kwargs)\n",
      "  File \"e:\\ineuron_FSDS\\BMI_prediction\\venv\\lib\\site-packages\\sklearn\\metrics\\_classification.py\", line 221, in accuracy_score\n",
      "    y_type, y_true, y_pred = _check_targets(y_true, y_pred)\n",
      "  File \"e:\\ineuron_FSDS\\BMI_prediction\\venv\\lib\\site-packages\\sklearn\\metrics\\_classification.py\", line 106, in _check_targets\n",
      "    raise ValueError(\"{0} is not supported\".format(y_type))\n",
      "ValueError: continuous is not supported\n",
      "\n",
      "  warnings.warn(\n"
     ]
    },
    {
     "name": "stdout",
     "output_type": "stream",
     "text": [
      "[CV 3/5] END criterion=squared_error, max_depth=3, n_estimators=200;, score=nan total time=   1.3s\n"
     ]
    },
    {
     "name": "stderr",
     "output_type": "stream",
     "text": [
      "e:\\ineuron_FSDS\\BMI_prediction\\venv\\lib\\site-packages\\sklearn\\model_selection\\_validation.py:778: UserWarning: Scoring failed. The score on this train-test partition for these parameters will be set to nan. Details: \n",
      "Traceback (most recent call last):\n",
      "  File \"e:\\ineuron_FSDS\\BMI_prediction\\venv\\lib\\site-packages\\sklearn\\model_selection\\_validation.py\", line 767, in _score\n",
      "    scores = scorer(estimator, X_test, y_test)\n",
      "  File \"e:\\ineuron_FSDS\\BMI_prediction\\venv\\lib\\site-packages\\sklearn\\metrics\\_scorer.py\", line 234, in __call__\n",
      "    return self._score(\n",
      "  File \"e:\\ineuron_FSDS\\BMI_prediction\\venv\\lib\\site-packages\\sklearn\\metrics\\_scorer.py\", line 282, in _score\n",
      "    return self._sign * self._score_func(y_true, y_pred, **self._kwargs)\n",
      "  File \"e:\\ineuron_FSDS\\BMI_prediction\\venv\\lib\\site-packages\\sklearn\\utils\\_param_validation.py\", line 192, in wrapper\n",
      "    return func(*args, **kwargs)\n",
      "  File \"e:\\ineuron_FSDS\\BMI_prediction\\venv\\lib\\site-packages\\sklearn\\metrics\\_classification.py\", line 221, in accuracy_score\n",
      "    y_type, y_true, y_pred = _check_targets(y_true, y_pred)\n",
      "  File \"e:\\ineuron_FSDS\\BMI_prediction\\venv\\lib\\site-packages\\sklearn\\metrics\\_classification.py\", line 106, in _check_targets\n",
      "    raise ValueError(\"{0} is not supported\".format(y_type))\n",
      "ValueError: continuous is not supported\n",
      "\n",
      "  warnings.warn(\n"
     ]
    },
    {
     "name": "stdout",
     "output_type": "stream",
     "text": [
      "[CV 4/5] END criterion=squared_error, max_depth=3, n_estimators=200;, score=nan total time=   1.3s\n"
     ]
    },
    {
     "name": "stderr",
     "output_type": "stream",
     "text": [
      "e:\\ineuron_FSDS\\BMI_prediction\\venv\\lib\\site-packages\\sklearn\\model_selection\\_validation.py:778: UserWarning: Scoring failed. The score on this train-test partition for these parameters will be set to nan. Details: \n",
      "Traceback (most recent call last):\n",
      "  File \"e:\\ineuron_FSDS\\BMI_prediction\\venv\\lib\\site-packages\\sklearn\\model_selection\\_validation.py\", line 767, in _score\n",
      "    scores = scorer(estimator, X_test, y_test)\n",
      "  File \"e:\\ineuron_FSDS\\BMI_prediction\\venv\\lib\\site-packages\\sklearn\\metrics\\_scorer.py\", line 234, in __call__\n",
      "    return self._score(\n",
      "  File \"e:\\ineuron_FSDS\\BMI_prediction\\venv\\lib\\site-packages\\sklearn\\metrics\\_scorer.py\", line 282, in _score\n",
      "    return self._sign * self._score_func(y_true, y_pred, **self._kwargs)\n",
      "  File \"e:\\ineuron_FSDS\\BMI_prediction\\venv\\lib\\site-packages\\sklearn\\utils\\_param_validation.py\", line 192, in wrapper\n",
      "    return func(*args, **kwargs)\n",
      "  File \"e:\\ineuron_FSDS\\BMI_prediction\\venv\\lib\\site-packages\\sklearn\\metrics\\_classification.py\", line 221, in accuracy_score\n",
      "    y_type, y_true, y_pred = _check_targets(y_true, y_pred)\n",
      "  File \"e:\\ineuron_FSDS\\BMI_prediction\\venv\\lib\\site-packages\\sklearn\\metrics\\_classification.py\", line 106, in _check_targets\n",
      "    raise ValueError(\"{0} is not supported\".format(y_type))\n",
      "ValueError: continuous is not supported\n",
      "\n",
      "  warnings.warn(\n",
      "e:\\ineuron_FSDS\\BMI_prediction\\venv\\lib\\site-packages\\sklearn\\model_selection\\_search.py:952: UserWarning: One or more of the test scores are non-finite: [nan nan nan nan nan nan nan nan nan nan]\n",
      "  warnings.warn(\n"
     ]
    },
    {
     "name": "stdout",
     "output_type": "stream",
     "text": [
      "[CV 5/5] END criterion=squared_error, max_depth=3, n_estimators=200;, score=nan total time=   1.3s\n"
     ]
    },
    {
     "data": {
      "text/html": [
       "<style>#sk-container-id-4 {color: black;background-color: white;}#sk-container-id-4 pre{padding: 0;}#sk-container-id-4 div.sk-toggleable {background-color: white;}#sk-container-id-4 label.sk-toggleable__label {cursor: pointer;display: block;width: 100%;margin-bottom: 0;padding: 0.3em;box-sizing: border-box;text-align: center;}#sk-container-id-4 label.sk-toggleable__label-arrow:before {content: \"▸\";float: left;margin-right: 0.25em;color: #696969;}#sk-container-id-4 label.sk-toggleable__label-arrow:hover:before {color: black;}#sk-container-id-4 div.sk-estimator:hover label.sk-toggleable__label-arrow:before {color: black;}#sk-container-id-4 div.sk-toggleable__content {max-height: 0;max-width: 0;overflow: hidden;text-align: left;background-color: #f0f8ff;}#sk-container-id-4 div.sk-toggleable__content pre {margin: 0.2em;color: black;border-radius: 0.25em;background-color: #f0f8ff;}#sk-container-id-4 input.sk-toggleable__control:checked~div.sk-toggleable__content {max-height: 200px;max-width: 100%;overflow: auto;}#sk-container-id-4 input.sk-toggleable__control:checked~label.sk-toggleable__label-arrow:before {content: \"▾\";}#sk-container-id-4 div.sk-estimator input.sk-toggleable__control:checked~label.sk-toggleable__label {background-color: #d4ebff;}#sk-container-id-4 div.sk-label input.sk-toggleable__control:checked~label.sk-toggleable__label {background-color: #d4ebff;}#sk-container-id-4 input.sk-hidden--visually {border: 0;clip: rect(1px 1px 1px 1px);clip: rect(1px, 1px, 1px, 1px);height: 1px;margin: -1px;overflow: hidden;padding: 0;position: absolute;width: 1px;}#sk-container-id-4 div.sk-estimator {font-family: monospace;background-color: #f0f8ff;border: 1px dotted black;border-radius: 0.25em;box-sizing: border-box;margin-bottom: 0.5em;}#sk-container-id-4 div.sk-estimator:hover {background-color: #d4ebff;}#sk-container-id-4 div.sk-parallel-item::after {content: \"\";width: 100%;border-bottom: 1px solid gray;flex-grow: 1;}#sk-container-id-4 div.sk-label:hover label.sk-toggleable__label {background-color: #d4ebff;}#sk-container-id-4 div.sk-serial::before {content: \"\";position: absolute;border-left: 1px solid gray;box-sizing: border-box;top: 0;bottom: 0;left: 50%;z-index: 0;}#sk-container-id-4 div.sk-serial {display: flex;flex-direction: column;align-items: center;background-color: white;padding-right: 0.2em;padding-left: 0.2em;position: relative;}#sk-container-id-4 div.sk-item {position: relative;z-index: 1;}#sk-container-id-4 div.sk-parallel {display: flex;align-items: stretch;justify-content: center;background-color: white;position: relative;}#sk-container-id-4 div.sk-item::before, #sk-container-id-4 div.sk-parallel-item::before {content: \"\";position: absolute;border-left: 1px solid gray;box-sizing: border-box;top: 0;bottom: 0;left: 50%;z-index: -1;}#sk-container-id-4 div.sk-parallel-item {display: flex;flex-direction: column;z-index: 1;position: relative;background-color: white;}#sk-container-id-4 div.sk-parallel-item:first-child::after {align-self: flex-end;width: 50%;}#sk-container-id-4 div.sk-parallel-item:last-child::after {align-self: flex-start;width: 50%;}#sk-container-id-4 div.sk-parallel-item:only-child::after {width: 0;}#sk-container-id-4 div.sk-dashed-wrapped {border: 1px dashed gray;margin: 0 0.4em 0.5em 0.4em;box-sizing: border-box;padding-bottom: 0.4em;background-color: white;}#sk-container-id-4 div.sk-label label {font-family: monospace;font-weight: bold;display: inline-block;line-height: 1.2em;}#sk-container-id-4 div.sk-label-container {text-align: center;}#sk-container-id-4 div.sk-container {/* jupyter's `normalize.less` sets `[hidden] { display: none; }` but bootstrap.min.css set `[hidden] { display: none !important; }` so we also need the `!important` here to be able to override the default hidden behavior on the sphinx rendered scikit-learn.org. See: https://github.com/scikit-learn/scikit-learn/issues/21755 */display: inline-block !important;position: relative;}#sk-container-id-4 div.sk-text-repr-fallback {display: none;}</style><div id=\"sk-container-id-4\" class=\"sk-top-container\"><div class=\"sk-text-repr-fallback\"><pre>RandomizedSearchCV(cv=5, estimator=RandomForestRegressor(),\n",
       "                   param_distributions={&#x27;criterion&#x27;: [&#x27;squared_error&#x27;,\n",
       "                                                      &#x27;absolute_error&#x27;,\n",
       "                                                      &#x27;friedman_mse&#x27;,\n",
       "                                                      &#x27;poisson&#x27;],\n",
       "                                        &#x27;max_depth&#x27;: [3, 5, 10],\n",
       "                                        &#x27;n_estimators&#x27;: [50, 100, 200]},\n",
       "                   scoring=&#x27;accuracy&#x27;, verbose=3)</pre><b>In a Jupyter environment, please rerun this cell to show the HTML representation or trust the notebook. <br />On GitHub, the HTML representation is unable to render, please try loading this page with nbviewer.org.</b></div><div class=\"sk-container\" hidden><div class=\"sk-item sk-dashed-wrapped\"><div class=\"sk-label-container\"><div class=\"sk-label sk-toggleable\"><input class=\"sk-toggleable__control sk-hidden--visually\" id=\"sk-estimator-id-10\" type=\"checkbox\" ><label for=\"sk-estimator-id-10\" class=\"sk-toggleable__label sk-toggleable__label-arrow\">RandomizedSearchCV</label><div class=\"sk-toggleable__content\"><pre>RandomizedSearchCV(cv=5, estimator=RandomForestRegressor(),\n",
       "                   param_distributions={&#x27;criterion&#x27;: [&#x27;squared_error&#x27;,\n",
       "                                                      &#x27;absolute_error&#x27;,\n",
       "                                                      &#x27;friedman_mse&#x27;,\n",
       "                                                      &#x27;poisson&#x27;],\n",
       "                                        &#x27;max_depth&#x27;: [3, 5, 10],\n",
       "                                        &#x27;n_estimators&#x27;: [50, 100, 200]},\n",
       "                   scoring=&#x27;accuracy&#x27;, verbose=3)</pre></div></div></div><div class=\"sk-parallel\"><div class=\"sk-parallel-item\"><div class=\"sk-item\"><div class=\"sk-label-container\"><div class=\"sk-label sk-toggleable\"><input class=\"sk-toggleable__control sk-hidden--visually\" id=\"sk-estimator-id-11\" type=\"checkbox\" ><label for=\"sk-estimator-id-11\" class=\"sk-toggleable__label sk-toggleable__label-arrow\">estimator: RandomForestRegressor</label><div class=\"sk-toggleable__content\"><pre>RandomForestRegressor()</pre></div></div></div><div class=\"sk-serial\"><div class=\"sk-item\"><div class=\"sk-estimator sk-toggleable\"><input class=\"sk-toggleable__control sk-hidden--visually\" id=\"sk-estimator-id-12\" type=\"checkbox\" ><label for=\"sk-estimator-id-12\" class=\"sk-toggleable__label sk-toggleable__label-arrow\">RandomForestRegressor</label><div class=\"sk-toggleable__content\"><pre>RandomForestRegressor()</pre></div></div></div></div></div></div></div></div></div></div>"
      ],
      "text/plain": [
       "RandomizedSearchCV(cv=5, estimator=RandomForestRegressor(),\n",
       "                   param_distributions={'criterion': ['squared_error',\n",
       "                                                      'absolute_error',\n",
       "                                                      'friedman_mse',\n",
       "                                                      'poisson'],\n",
       "                                        'max_depth': [3, 5, 10],\n",
       "                                        'n_estimators': [50, 100, 200]},\n",
       "                   scoring='accuracy', verbose=3)"
      ]
     },
     "execution_count": 78,
     "metadata": {},
     "output_type": "execute_result"
    }
   ],
   "source": [
    "model = RandomForestRegressor()\n",
    "cv=RandomizedSearchCV(model,param_distributions=params,scoring='accuracy',cv=5,verbose=3)\n",
    "cv.fit(X_train,y_train)"
   ]
  },
  {
   "cell_type": "code",
   "execution_count": 79,
   "metadata": {},
   "outputs": [
    {
     "data": {
      "text/plain": [
       "{'n_estimators': 50, 'max_depth': 10, 'criterion': 'friedman_mse'}"
      ]
     },
     "execution_count": 79,
     "metadata": {},
     "output_type": "execute_result"
    }
   ],
   "source": [
    "cv.best_params_"
   ]
  },
  {
   "cell_type": "code",
   "execution_count": 83,
   "metadata": {},
   "outputs": [],
   "source": [
    "bestmodel=RandomForestRegressor(n_estimators=50,max_depth=10,criterion='friedman_mse')\n",
    "bestmodel.fit(X_train,y_train)\n",
    "y_pred=bestmodel.predict(X_test)\n"
   ]
  },
  {
   "cell_type": "code",
   "execution_count": 84,
   "metadata": {},
   "outputs": [],
   "source": [
    "def evaluate_model(true, predicted):\n",
    "    mae = mean_absolute_error(true, predicted)\n",
    "    mse = mean_squared_error(true, predicted)\n",
    "    rmse = np.sqrt(mean_squared_error(true, predicted))\n",
    "    r2_square = r2_score(true, predicted)\n",
    "    return mae, rmse, r2_square\n",
    "\n",
    "\n",
    "mae, rmse, r2_square=evaluate_model(y_test,y_pred)"
   ]
  },
  {
   "cell_type": "code",
   "execution_count": 86,
   "metadata": {},
   "outputs": [
    {
     "name": "stdout",
     "output_type": "stream",
     "text": [
      "0.37712613059653144\n"
     ]
    }
   ],
   "source": [
    "print(r2_square)"
   ]
  },
  {
   "attachments": {},
   "cell_type": "markdown",
   "metadata": {},
   "source": [
    "The best accuracy achieved using Random Forest with hypertuned parameters is 37.7%"
   ]
  }
 ],
 "metadata": {
  "kernelspec": {
   "display_name": "Python 3",
   "language": "python",
   "name": "python3"
  },
  "language_info": {
   "codemirror_mode": {
    "name": "ipython",
    "version": 3
   },
   "file_extension": ".py",
   "mimetype": "text/x-python",
   "name": "python",
   "nbconvert_exporter": "python",
   "pygments_lexer": "ipython3",
   "version": "3.8.0"
  },
  "orig_nbformat": 4
 },
 "nbformat": 4,
 "nbformat_minor": 2
}
